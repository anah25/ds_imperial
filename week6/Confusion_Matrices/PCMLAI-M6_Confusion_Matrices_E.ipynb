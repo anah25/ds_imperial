{
 "cells": [
  {
   "cell_type": "code",
   "execution_count": 1,
   "id": "010bb7d1",
   "metadata": {},
   "outputs": [],
   "source": [
    "import numpy as np\n",
    "from sklearn.preprocessing import PolynomialFeatures\n",
    "from sklearn.linear_model import LinearRegression\n",
    "from sklearn.pipeline import Pipeline\n",
    "import pathlib as pl\n",
    "import os \n",
    "import pandas as pd\n",
    "import seaborn as sn\n",
    "import matplotlib.pyplot as plt"
   ]
  },
  {
   "cell_type": "markdown",
   "id": "a1b8c436",
   "metadata": {},
   "source": [
    "# Breast Cancer Screening Classification \n",
    "\n",
    "The dataset you will be working with comes from The Breast Cancer Surveillance Consortium, an American organisation that does research into Breast Cancer. To download a fresh copy of the dataset, go to https://www.bcsc-research.org/data/rfdataset, and for information on each of variables in the dataset, see https://www.bcsc-research.org/data/mammography_dataset/dataset_documentation.\n",
    "\n",
    "In this notebook you will be looking at the effectiveness of mammogram breast cancer screening for women aged 60-83. For more information on breast cancer screening see https://www.cancerresearchuk.org/about-cancer/breast-cancer/getting-diagnosed/screening/breast-screening\n",
    "\n",
    "In this notebook you will create confusion matrices and calculate the specificity and sensitivity of both the whole data and each age group within the datasets. "
   ]
  },
  {
   "cell_type": "markdown",
   "id": "15e938dc",
   "metadata": {},
   "source": [
    "### First load the dataset"
   ]
  },
  {
   "cell_type": "code",
   "execution_count": 3,
   "id": "9ccd9095",
   "metadata": {},
   "outputs": [],
   "source": [
    "path_csv = pl.Path(os.getcwd()) / f'm6-dataset.csv'\n",
    "with open(path_csv, 'rb') as file:\n",
    "    data = pd.read_csv(file)"
   ]
  },
  {
   "cell_type": "markdown",
   "id": "d024876a",
   "metadata": {},
   "source": [
    "## Section 1: Confusion Matrix \n",
    "\n",
    "### TODO: Write code to create a confusion matrix for the dataset\n",
    "\n",
    "For this dataset, we are comparing the radiologist's assessment to the true cancer state of the patient. \n",
    "\n",
    "Values of  1, 2 or 3 in the assess_c column are counted as being predictions of no cancer, while predictions of 0, 4 or 5 are counted as being predictions of cancer. \n",
    "\n",
    "Use the 'cancer_c' column as the true indicator of if the patient has cancer, with 0 indicating no cancer and 1 indicating cancer. \n",
    "\n",
    "Use these values to calculate the number of true positives, false negatives, true negatives and false positives and plot a confusion matrix. \n",
    "\n",
    "HINT: you can use seaborn heatmaps to plot your confusion matrix. If you convert your confusion matrix into a dataframe first with correctly labelled columns and indexes, you can get the correct labels on your heatmap. "
   ]
  },
  {
   "cell_type": "code",
   "execution_count": 3,
   "id": "97f3e299",
   "metadata": {},
   "outputs": [
    {
     "ename": "NameError",
     "evalue": "name 'data' is not defined",
     "output_type": "error",
     "traceback": [
      "\u001b[1;31m---------------------------------------------------------------------------\u001b[0m",
      "\u001b[1;31mNameError\u001b[0m                                 Traceback (most recent call last)",
      "\u001b[1;32m<ipython-input-3-d29d98d51fd6>\u001b[0m in \u001b[0;36m<module>\u001b[1;34m\u001b[0m\n\u001b[0;32m      1\u001b[0m \u001b[1;31m# type your answer here\u001b[0m\u001b[1;33m\u001b[0m\u001b[1;33m\u001b[0m\u001b[1;33m\u001b[0m\u001b[0m\n\u001b[0;32m      2\u001b[0m \u001b[1;31m# data['assess_c'] = np.where(data['assess_c'].isin([1,2,3]), 0, 1)\u001b[0m\u001b[1;33m\u001b[0m\u001b[1;33m\u001b[0m\u001b[1;33m\u001b[0m\u001b[0m\n\u001b[1;32m----> 3\u001b[1;33m \u001b[0mdata\u001b[0m \u001b[1;33m=\u001b[0m \u001b[0mdata\u001b[0m\u001b[1;33m.\u001b[0m\u001b[0mrename\u001b[0m\u001b[1;33m(\u001b[0m\u001b[1;33m{\u001b[0m\u001b[1;34m'assess_c'\u001b[0m\u001b[1;33m:\u001b[0m\u001b[1;34m'y_Actual'\u001b[0m\u001b[1;33m,\u001b[0m\u001b[1;34m'cancer_c'\u001b[0m\u001b[1;33m:\u001b[0m\u001b[1;34m'y_Predicted'\u001b[0m\u001b[1;33m}\u001b[0m\u001b[1;33m,\u001b[0m \u001b[0maxis\u001b[0m \u001b[1;33m=\u001b[0m \u001b[1;36m1\u001b[0m \u001b[1;33m)\u001b[0m\u001b[1;33m\u001b[0m\u001b[1;33m\u001b[0m\u001b[0m\n\u001b[0m\u001b[0;32m      4\u001b[0m \u001b[1;33m\u001b[0m\u001b[0m\n\u001b[0;32m      5\u001b[0m \u001b[0mconfusion_matrix\u001b[0m \u001b[1;33m=\u001b[0m \u001b[0mpd\u001b[0m\u001b[1;33m.\u001b[0m\u001b[0mcrosstab\u001b[0m\u001b[1;33m(\u001b[0m\u001b[0mdata\u001b[0m\u001b[1;33m[\u001b[0m\u001b[1;34m'y_Actual'\u001b[0m\u001b[1;33m]\u001b[0m\u001b[1;33m,\u001b[0m \u001b[0mdata\u001b[0m\u001b[1;33m[\u001b[0m\u001b[1;34m'y_Predicted'\u001b[0m\u001b[1;33m]\u001b[0m\u001b[1;33m,\u001b[0m \u001b[0mrownames\u001b[0m\u001b[1;33m=\u001b[0m\u001b[1;33m[\u001b[0m\u001b[1;34m'Actual'\u001b[0m\u001b[1;33m]\u001b[0m\u001b[1;33m,\u001b[0m \u001b[0mcolnames\u001b[0m\u001b[1;33m=\u001b[0m\u001b[1;33m[\u001b[0m\u001b[1;34m'Predicted'\u001b[0m\u001b[1;33m]\u001b[0m\u001b[1;33m)\u001b[0m\u001b[1;33m\u001b[0m\u001b[1;33m\u001b[0m\u001b[0m\n",
      "\u001b[1;31mNameError\u001b[0m: name 'data' is not defined"
     ]
    }
   ],
   "source": [
    "# type your answer here\n",
    "# data['assess_c'] = np.where(data['assess_c'].isin([1,2,3]), 0, 1)\n",
    "data = data.rename({'assess_c':'y_Actual','cancer_c':'y_Predicted'}, axis = 1 )\n",
    "\n",
    "confusion_matrix = pd.crosstab(data['y_Actual'], data['y_Predicted'], rownames=['Actual'], colnames=['Predicted'])\n",
    "\n",
    "# # Print the confusion matrix\n",
    "print (confusion_matrix)\n",
    "sn.heatmap(confusion_matrix, annot=True)\n",
    "# plt.show()\n",
    "\n",
    "from pandas_ml import ConfusionMatrix\n",
    "\n",
    "data"
   ]
  },
  {
   "cell_type": "markdown",
   "id": "61243425",
   "metadata": {},
   "source": [
    "## Section 2: Calculate the Sensitivity and Specificity \n",
    "\n",
    "### TODO: Write a function to calculate the sensitivity and specificity of the breast cancer screening \n",
    "\n",
    "Calculate the sensitivity and specificity of the breast cancer screening and answer the first questions that go alongside this notebook. "
   ]
  },
  {
   "cell_type": "code",
   "execution_count": null,
   "id": "02dd1890",
   "metadata": {},
   "outputs": [],
   "source": [
    "# type your answer here"
   ]
  },
  {
   "cell_type": "markdown",
   "id": "2d06333d",
   "metadata": {},
   "source": [
    "## Section 3: Comparing the different Age Groups\n",
    "\n",
    "### TODO: For each age group ( 60-69, 70-79 and 80-89) plot a confusion matrix and calculate the specificty and sensitivity "
   ]
  },
  {
   "cell_type": "code",
   "execution_count": null,
   "id": "de18b6b7",
   "metadata": {
    "scrolled": true
   },
   "outputs": [],
   "source": [
    "# type your answer here\n"
   ]
  }
 ],
 "metadata": {
  "kernelspec": {
   "display_name": "Python 3.6.13 ('d2l')",
   "language": "python",
   "name": "python3"
  },
  "language_info": {
   "codemirror_mode": {
    "name": "ipython",
    "version": 3
   },
   "file_extension": ".py",
   "mimetype": "text/x-python",
   "name": "python",
   "nbconvert_exporter": "python",
   "pygments_lexer": "ipython3",
   "version": "3.6.13"
  },
  "vscode": {
   "interpreter": {
    "hash": "3a03a9bd6e18eb3aa77bdf50e9a012070e9e866fe226f25407eb3f4247be4bba"
   }
  }
 },
 "nbformat": 4,
 "nbformat_minor": 5
}
