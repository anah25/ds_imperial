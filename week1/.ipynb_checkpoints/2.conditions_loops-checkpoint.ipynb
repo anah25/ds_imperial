{
 "cells": [
  {
   "cell_type": "code",
   "execution_count": 8,
   "id": "06056f01",
   "metadata": {},
   "outputs": [],
   "source": [
    "def score_classifier(score):\n",
    "    \"\"\" Taking the score and printing out whether is good or not\"\"\"\n",
    "    if score >90 and score <=100:\n",
    "        print('A')\n",
    "    elif score >50 and score <=90:\n",
    "        print('B')\n",
    "    elif score <50:\n",
    "        print('Fail')\n",
    "    elif score <0 or score >100:\n",
    "        print('Invalid!!')"
   ]
  },
  {
   "cell_type": "code",
   "execution_count": 7,
   "id": "fd159483",
   "metadata": {
    "scrolled": true
   },
   "outputs": [
    {
     "name": "stdout",
     "output_type": "stream",
     "text": [
      "Invalid\n"
     ]
    }
   ],
   "source": [
    "score_classifier(120)"
   ]
  },
  {
   "cell_type": "markdown",
   "id": "94994d0f",
   "metadata": {},
   "source": [
    "### While loops"
   ]
  },
  {
   "cell_type": "code",
   "execution_count": 13,
   "id": "5d54c940",
   "metadata": {},
   "outputs": [
    {
     "name": "stdout",
     "output_type": "stream",
     "text": [
      "3\n"
     ]
    }
   ],
   "source": [
    "x = \n",
    "while x <=2:\n",
    "    x = x+2\n",
    "    print (x)"
   ]
  },
  {
   "cell_type": "code",
   "execution_count": null,
   "id": "54ee0845",
   "metadata": {},
   "outputs": [],
   "source": [
    "def while_score_classifier(score):\n",
    "    \"\"\" Taking the score and printing out whether is good or not\"\"\"\n",
    "    while score <=2:\n",
    "        score = score+2\n",
    "        print (score)\n",
    "    else:\n",
    "        print('Invalid')"
   ]
  },
  {
   "cell_type": "markdown",
   "id": "d870c827",
   "metadata": {},
   "source": [
    "### For loops"
   ]
  },
  {
   "cell_type": "code",
   "execution_count": 32,
   "id": "a0792757",
   "metadata": {},
   "outputs": [],
   "source": [
    "def score_curve(test_score):\n",
    "    for score in test_score:\n",
    "        if score <80:\n",
    "            score = score+1\n",
    "        else: \n",
    "            score\n",
    "        print (score)"
   ]
  },
  {
   "cell_type": "code",
   "execution_count": 33,
   "id": "fe52555d",
   "metadata": {
    "scrolled": true
   },
   "outputs": [
    {
     "name": "stdout",
     "output_type": "stream",
     "text": [
      "2\n",
      "80\n"
     ]
    }
   ],
   "source": [
    "score_curve([1,80])"
   ]
  },
  {
   "cell_type": "code",
   "execution_count": 4,
   "id": "4625a60f",
   "metadata": {},
   "outputs": [
    {
     "name": "stdout",
     "output_type": "stream",
     "text": [
      "George: 30\n",
      "Mirela: 20\n"
     ]
    }
   ],
   "source": [
    "### Looping through a dictionary \n",
    "test_score_dict = {'George':20,\n",
    "                  'Mirela':10}\n",
    "\n",
    "for name, score in test_score_dict.items():\n",
    "    score = score+10\n",
    "    print('{}: {}'.format(name, score))"
   ]
  }
 ],
 "metadata": {
  "kernelspec": {
   "display_name": "Python 3 (ipykernel)",
   "language": "python",
   "name": "python3"
  },
  "language_info": {
   "codemirror_mode": {
    "name": "ipython",
    "version": 3
   },
   "file_extension": ".py",
   "mimetype": "text/x-python",
   "name": "python",
   "nbconvert_exporter": "python",
   "pygments_lexer": "ipython3",
   "version": "3.9.7"
  }
 },
 "nbformat": 4,
 "nbformat_minor": 5
}
