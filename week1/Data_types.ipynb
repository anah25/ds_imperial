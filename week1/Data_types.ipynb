{
 "cells": [
  {
   "cell_type": "markdown",
   "id": "228140b8",
   "metadata": {},
   "source": [
    "##  Markdown edits example\n",
    "\n",
    "- List\n",
    "- **Bold List**\n",
    "- _Italic List_\n",
    "    "
   ]
  },
  {
   "cell_type": "markdown",
   "id": "5653cf5d",
   "metadata": {},
   "source": [
    "- Y - Make it a code\n",
    "- M - Markdown file\n",
    "- Enter - edit mode\n",
    "- Escape - escape mode\n"
   ]
  },
  {
   "cell_type": "code",
   "execution_count": 3,
   "id": "707ed0bf",
   "metadata": {},
   "outputs": [
    {
     "name": "stdout",
     "output_type": "stream",
     "text": [
      "hello world\n"
     ]
    }
   ],
   "source": [
    "print('hello world')"
   ]
  },
  {
   "cell_type": "markdown",
   "id": "8821bb7f",
   "metadata": {},
   "source": [
    "## Data Types\n",
    "\n",
    "- Why do they matter? \n",
    "    - Working with operators it is important. Some operators wotk with certain data types\n",
    "    - If opperations on different data types are done, then we get a _TypeError_"
   ]
  },
  {
   "cell_type": "code",
   "execution_count": 4,
   "id": "8825167f",
   "metadata": {},
   "outputs": [
    {
     "data": {
      "text/plain": [
       "int"
      ]
     },
     "execution_count": 4,
     "metadata": {},
     "output_type": "execute_result"
    }
   ],
   "source": [
    "type(1)"
   ]
  },
  {
   "cell_type": "code",
   "execution_count": 5,
   "id": "d1f4c369",
   "metadata": {},
   "outputs": [
    {
     "data": {
      "text/plain": [
       "str"
      ]
     },
     "execution_count": 5,
     "metadata": {},
     "output_type": "execute_result"
    }
   ],
   "source": [
    "type('1')"
   ]
  },
  {
   "cell_type": "code",
   "execution_count": null,
   "id": "6015d428",
   "metadata": {},
   "outputs": [],
   "source": [
    "# Changing types \n",
    "n = 12\n",
    "m = str(12)"
   ]
  },
  {
   "cell_type": "markdown",
   "id": "15e5b9e8",
   "metadata": {},
   "source": [
    "**Data Structure**\n",
    "- Data Frame is a is a data structure that organizes data into a 2-dimensional table of rows and columns, much like a spreadsheet.\n",
    "- DataFrames are one of the most common data structures used in modern data analytics because they are a flexible and intuitive way of storing and working with data."
   ]
  },
  {
   "cell_type": "markdown",
   "id": "a7e7b7aa",
   "metadata": {},
   "source": [
    "## Comparison and logical operators"
   ]
  },
  {
   "cell_type": "code",
   "execution_count": 8,
   "id": "766a86d4",
   "metadata": {
    "scrolled": true
   },
   "outputs": [
    {
     "data": {
      "text/plain": [
       "1"
      ]
     },
     "execution_count": 8,
     "metadata": {},
     "output_type": "execute_result"
    }
   ],
   "source": [
    "x = True\n",
    "y = False\n",
    "\n",
    "x+y"
   ]
  },
  {
   "cell_type": "code",
   "execution_count": 9,
   "id": "ee922e22",
   "metadata": {},
   "outputs": [
    {
     "data": {
      "text/plain": [
       "True"
      ]
     },
     "execution_count": 9,
     "metadata": {},
     "output_type": "execute_result"
    }
   ],
   "source": [
    "# Logical operators \n",
    "True and True"
   ]
  },
  {
   "cell_type": "markdown",
   "id": "09ef3376",
   "metadata": {},
   "source": [
    "## Lists with different variable types\n",
    "- list is a data type as a combination of multiple elements \n",
    "- can store any kind of data "
   ]
  },
  {
   "cell_type": "code",
   "execution_count": 13,
   "id": "3794857c",
   "metadata": {},
   "outputs": [],
   "source": [
    "my_list = [1,2,3, 'a', 'm']"
   ]
  },
  {
   "cell_type": "code",
   "execution_count": 16,
   "id": "9d680120",
   "metadata": {},
   "outputs": [
    {
     "data": {
      "text/plain": [
       "str"
      ]
     },
     "execution_count": 16,
     "metadata": {},
     "output_type": "execute_result"
    }
   ],
   "source": [
    "my_list[3]\n",
    "type(my_list[3])"
   ]
  },
  {
   "cell_type": "code",
   "execution_count": 24,
   "id": "6997a698",
   "metadata": {},
   "outputs": [
    {
     "data": {
      "text/plain": [
       "[1, 'a']"
      ]
     },
     "execution_count": 24,
     "metadata": {},
     "output_type": "execute_result"
    }
   ],
   "source": [
    "# Create a list of lists \n",
    "\n",
    "my_list = [[1,'a'], [2,'b'],[3,'c']]\n",
    "my_list[0]"
   ]
  },
  {
   "cell_type": "code",
   "execution_count": null,
   "id": "b179a9e5",
   "metadata": {},
   "outputs": [],
   "source": []
  }
 ],
 "metadata": {
  "kernelspec": {
   "display_name": "Python 3 (ipykernel)",
   "language": "python",
   "name": "python3"
  },
  "language_info": {
   "codemirror_mode": {
    "name": "ipython",
    "version": 3
   },
   "file_extension": ".py",
   "mimetype": "text/x-python",
   "name": "python",
   "nbconvert_exporter": "python",
   "pygments_lexer": "ipython3",
   "version": "3.9.7"
  }
 },
 "nbformat": 4,
 "nbformat_minor": 5
}
