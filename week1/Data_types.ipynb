{
 "cells": [
  {
   "cell_type": "markdown",
   "id": "10c77cde",
   "metadata": {},
   "source": [
    "##  Markdown edits example\n",
    "\n",
    "- List\n",
    "- **Bold List**\n",
    "- _Italic List_\n",
    "    "
   ]
  },
  {
   "cell_type": "markdown",
   "id": "5129c192",
   "metadata": {},
   "source": [
    "- Y - Make it a code\n",
    "- M - Markdown file\n",
    "- Enter - edit mode\n",
    "- Escape - escape mode\n"
   ]
  },
  {
   "cell_type": "code",
   "execution_count": 3,
   "id": "b65cf9b4",
   "metadata": {},
   "outputs": [
    {
     "name": "stdout",
     "output_type": "stream",
     "text": [
      "hello world\n"
     ]
    }
   ],
   "source": [
    "print('hello world')"
   ]
  },
  {
   "cell_type": "markdown",
   "id": "071851ca",
   "metadata": {},
   "source": [
    "## Data Types\n",
    "\n",
    "- Why do they matter? \n",
    "    - Working with operators it is important. Some operators wotk with certain data types\n",
    "    - If opperations on different data types are done, then we get a _TypeError_"
   ]
  },
  {
   "cell_type": "code",
   "execution_count": 4,
   "id": "5680cee9",
   "metadata": {},
   "outputs": [
    {
     "data": {
      "text/plain": [
       "int"
      ]
     },
     "execution_count": 4,
     "metadata": {},
     "output_type": "execute_result"
    }
   ],
   "source": [
    "type(1)"
   ]
  },
  {
   "cell_type": "code",
   "execution_count": 5,
   "id": "d0be93df",
   "metadata": {},
   "outputs": [
    {
     "data": {
      "text/plain": [
       "str"
      ]
     },
     "execution_count": 5,
     "metadata": {},
     "output_type": "execute_result"
    }
   ],
   "source": [
    "type('1')"
   ]
  },
  {
   "cell_type": "code",
   "execution_count": null,
   "id": "2fd0bf14",
   "metadata": {},
   "outputs": [],
   "source": [
    "# Changing types \n",
    "n = 12\n",
    "m = str(12)"
   ]
  },
  {
   "cell_type": "markdown",
   "id": "965ffb70",
   "metadata": {},
   "source": [
    "**Data Structure**\n",
    "- Data Frame is a is a data structure that organizes data into a 2-dimensional table of rows and columns, much like a spreadsheet.\n",
    "- DataFrames are one of the most common data structures used in modern data analytics because they are a flexible and intuitive way of storing and working with data."
   ]
  },
  {
   "cell_type": "markdown",
   "id": "ad6fef0d",
   "metadata": {},
   "source": [
    "## Comparison and logical operators"
   ]
  },
  {
   "cell_type": "code",
   "execution_count": 8,
   "id": "b6540bbb",
   "metadata": {
    "scrolled": true
   },
   "outputs": [
    {
     "data": {
      "text/plain": [
       "1"
      ]
     },
     "execution_count": 8,
     "metadata": {},
     "output_type": "execute_result"
    }
   ],
   "source": [
    "x = True\n",
    "y = False\n",
    "\n",
    "x+y"
   ]
  },
  {
   "cell_type": "code",
   "execution_count": 9,
   "id": "1866c715",
   "metadata": {},
   "outputs": [
    {
     "data": {
      "text/plain": [
       "True"
      ]
     },
     "execution_count": 9,
     "metadata": {},
     "output_type": "execute_result"
    }
   ],
   "source": [
    "# Logical operators \n",
    "True and True"
   ]
  },
  {
   "cell_type": "markdown",
   "id": "08ca8e45",
   "metadata": {},
   "source": [
    "## Lists with different variable types\n",
    "- list is a data type as a combination of multiple elements \n",
    "- can store any kind of data "
   ]
  },
  {
   "cell_type": "code",
   "execution_count": 13,
   "id": "29109e87",
   "metadata": {},
   "outputs": [],
   "source": [
    "my_list = [1,2,3, 'a', 'm']"
   ]
  },
  {
   "cell_type": "code",
   "execution_count": 16,
   "id": "964ae862",
   "metadata": {},
   "outputs": [
    {
     "data": {
      "text/plain": [
       "str"
      ]
     },
     "execution_count": 16,
     "metadata": {},
     "output_type": "execute_result"
    }
   ],
   "source": [
    "my_list[3]\n",
    "type(my_list[3])"
   ]
  },
  {
   "cell_type": "code",
   "execution_count": 24,
   "id": "0794b7ba",
   "metadata": {},
   "outputs": [
    {
     "data": {
      "text/plain": [
       "[1, 'a']"
      ]
     },
     "execution_count": 24,
     "metadata": {},
     "output_type": "execute_result"
    }
   ],
   "source": [
    "# Create a list of lists \n",
    "\n",
    "my_list = [[1,'a'], [2,'b'],[3,'c']]\n",
    "my_list[0]"
   ]
  },
  {
   "cell_type": "markdown",
   "id": "3e7fca23",
   "metadata": {},
   "source": [
    "### Slicing \n",
    "- Element in the stop bound is exclusive"
   ]
  },
  {
   "cell_type": "code",
   "execution_count": 26,
   "id": "d50aaf16",
   "metadata": {},
   "outputs": [
    {
     "data": {
      "text/plain": [
       "[[1, 'a'], [2, 'b']]"
      ]
     },
     "execution_count": 26,
     "metadata": {},
     "output_type": "execute_result"
    }
   ],
   "source": [
    "my_list[0:2]"
   ]
  },
  {
   "cell_type": "code",
   "execution_count": 28,
   "id": "19d1d5b1",
   "metadata": {},
   "outputs": [
    {
     "data": {
      "text/plain": [
       "[[1, 'a'], [2, 'b']]"
      ]
     },
     "execution_count": 28,
     "metadata": {},
     "output_type": "execute_result"
    }
   ],
   "source": [
    "my_list[:-1]"
   ]
  },
  {
   "cell_type": "code",
   "execution_count": 33,
   "id": "80c311bc",
   "metadata": {},
   "outputs": [],
   "source": [
    "# Update data from a list and assign\n",
    "my_list = my_list + [[100, 'z']]\n",
    "\n",
    "# Delete \n",
    "del(my_list[0])\n",
    "\n",
    "# Replace using subsetting \n",
    "my_list[0] = [[99,'y']]"
   ]
  },
  {
   "cell_type": "code",
   "execution_count": 36,
   "id": "935229e2",
   "metadata": {
    "scrolled": true
   },
   "outputs": [
    {
     "data": {
      "text/plain": [
       "[[[99, 'y']], [3, 'c'], [100, 'z'], [100, 'z']]"
      ]
     },
     "execution_count": 36,
     "metadata": {},
     "output_type": "execute_result"
    }
   ],
   "source": [
    "my_list"
   ]
  },
  {
   "cell_type": "markdown",
   "id": "5d98ea5d",
   "metadata": {},
   "source": [
    "### Tuple\n",
    "- Collection of elements from different data types \n",
    "- They are immutable lists \n",
    "- They can be unpacked "
   ]
  },
  {
   "cell_type": "markdown",
   "id": "4f3a5c18",
   "metadata": {},
   "source": [
    "### Dictionary \n",
    "\n",
    "- Dictionaries and lists are hashed data structures\n",
    "- Used to map a set of objects to another set of objects using key-value pair "
   ]
  }
 ],
 "metadata": {
  "kernelspec": {
   "display_name": "Python 3 (ipykernel)",
   "language": "python",
   "name": "python3"
  },
  "language_info": {
   "codemirror_mode": {
    "name": "ipython",
    "version": 3
   },
   "file_extension": ".py",
   "mimetype": "text/x-python",
   "name": "python",
   "nbconvert_exporter": "python",
   "pygments_lexer": "ipython3",
   "version": "3.9.7"
  }
 },
 "nbformat": 4,
 "nbformat_minor": 5
}
