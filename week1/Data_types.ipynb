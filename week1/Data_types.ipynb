{
 "cells": [
  {
   "cell_type": "markdown",
   "id": "dc85878e",
   "metadata": {},
   "source": [
    "##  Markdown edits example\n",
    "\n",
    "- List\n",
    "- **Bold List**\n",
    "- _Italic List_\n",
    "    "
   ]
  },
  {
   "cell_type": "markdown",
   "id": "7d7dc5fb",
   "metadata": {},
   "source": [
    "- Y - Make it a code\n",
    "- M - Markdown file\n",
    "- Enter - edit mode\n",
    "- Escape - escape mode\n"
   ]
  },
  {
   "cell_type": "code",
   "execution_count": 3,
   "id": "3bc105c5",
   "metadata": {},
   "outputs": [
    {
     "name": "stdout",
     "output_type": "stream",
     "text": [
      "hello world\n"
     ]
    }
   ],
   "source": [
    "print('hello world')"
   ]
  },
  {
   "cell_type": "markdown",
   "id": "fe09e08e",
   "metadata": {},
   "source": [
    "## Data Types\n",
    "\n",
    "- Why do they matter? \n",
    "    - Working with operators it is important. Some operators wotk with certain data types\n",
    "    - If opperations on different data types are done, then we get a _TypeError_"
   ]
  },
  {
   "cell_type": "code",
   "execution_count": 4,
   "id": "3a9d9157",
   "metadata": {},
   "outputs": [
    {
     "data": {
      "text/plain": [
       "int"
      ]
     },
     "execution_count": 4,
     "metadata": {},
     "output_type": "execute_result"
    }
   ],
   "source": [
    "type(1)"
   ]
  },
  {
   "cell_type": "code",
   "execution_count": 5,
   "id": "200d1c19",
   "metadata": {},
   "outputs": [
    {
     "data": {
      "text/plain": [
       "str"
      ]
     },
     "execution_count": 5,
     "metadata": {},
     "output_type": "execute_result"
    }
   ],
   "source": [
    "type('1')"
   ]
  },
  {
   "cell_type": "code",
   "execution_count": null,
   "id": "5c153eab",
   "metadata": {},
   "outputs": [],
   "source": [
    "# Changing types \n",
    "n = 12\n",
    "m = str(12)"
   ]
  },
  {
   "cell_type": "markdown",
   "id": "294ce202",
   "metadata": {},
   "source": [
    "**Data Structure**\n",
    "- Data Frame is a is a data structure that organizes data into a 2-dimensional table of rows and columns, much like a spreadsheet.\n",
    "- DataFrames are one of the most common data structures used in modern data analytics because they are a flexible and intuitive way of storing and working with data."
   ]
  },
  {
   "cell_type": "markdown",
   "id": "57f95d6f",
   "metadata": {},
   "source": [
    "## Comparison and logical operators"
   ]
  },
  {
   "cell_type": "code",
   "execution_count": 8,
   "id": "b1123cfb",
   "metadata": {
    "scrolled": true
   },
   "outputs": [
    {
     "data": {
      "text/plain": [
       "1"
      ]
     },
     "execution_count": 8,
     "metadata": {},
     "output_type": "execute_result"
    }
   ],
   "source": [
    "x = True\n",
    "y = False\n",
    "\n",
    "x+y"
   ]
  },
  {
   "cell_type": "code",
   "execution_count": 9,
   "id": "e2ce7cc9",
   "metadata": {},
   "outputs": [
    {
     "data": {
      "text/plain": [
       "True"
      ]
     },
     "execution_count": 9,
     "metadata": {},
     "output_type": "execute_result"
    }
   ],
   "source": [
    "# Logical operators \n",
    "True and True"
   ]
  },
  {
   "cell_type": "markdown",
   "id": "61fa90c9",
   "metadata": {},
   "source": [
    "## Lists with different variable types\n",
    "- list is a data type as a combination of multiple elements \n",
    "- can store any kind of data "
   ]
  },
  {
   "cell_type": "code",
   "execution_count": 13,
   "id": "d36daacb",
   "metadata": {},
   "outputs": [],
   "source": [
    "my_list = [1,2,3, 'a', 'm']"
   ]
  },
  {
   "cell_type": "code",
   "execution_count": 16,
   "id": "d668e813",
   "metadata": {},
   "outputs": [
    {
     "data": {
      "text/plain": [
       "str"
      ]
     },
     "execution_count": 16,
     "metadata": {},
     "output_type": "execute_result"
    }
   ],
   "source": [
    "my_list[3]\n",
    "type(my_list[3])"
   ]
  },
  {
   "cell_type": "code",
   "execution_count": 24,
   "id": "ddc1da4b",
   "metadata": {},
   "outputs": [
    {
     "data": {
      "text/plain": [
       "[1, 'a']"
      ]
     },
     "execution_count": 24,
     "metadata": {},
     "output_type": "execute_result"
    }
   ],
   "source": [
    "# Create a list of lists \n",
    "\n",
    "my_list = [[1,'a'], [2,'b'],[3,'c']]\n",
    "my_list[0]"
   ]
  },
  {
   "cell_type": "markdown",
   "id": "b20783a3",
   "metadata": {},
   "source": [
    "### Slicing \n",
    "- Element in the stop bound is exclusive"
   ]
  },
  {
   "cell_type": "code",
   "execution_count": 26,
   "id": "680a748b",
   "metadata": {},
   "outputs": [
    {
     "data": {
      "text/plain": [
       "[[1, 'a'], [2, 'b']]"
      ]
     },
     "execution_count": 26,
     "metadata": {},
     "output_type": "execute_result"
    }
   ],
   "source": [
    "my_list[0:2]"
   ]
  },
  {
   "cell_type": "code",
   "execution_count": 28,
   "id": "9834d2d8",
   "metadata": {},
   "outputs": [
    {
     "data": {
      "text/plain": [
       "[[1, 'a'], [2, 'b']]"
      ]
     },
     "execution_count": 28,
     "metadata": {},
     "output_type": "execute_result"
    }
   ],
   "source": [
    "my_list[:-1]"
   ]
  },
  {
   "cell_type": "code",
   "execution_count": 33,
   "id": "241b5f13",
   "metadata": {},
   "outputs": [],
   "source": [
    "# Update data from a list and assign\n",
    "my_list = my_list + [[100, 'z']]\n",
    "\n",
    "# Delete \n",
    "del(my_list[0])\n",
    "\n",
    "# Replace using subsetting \n",
    "my_list[0] = [[99,'y']]"
   ]
  },
  {
   "cell_type": "code",
   "execution_count": 35,
   "id": "31cae77b",
   "metadata": {},
   "outputs": [],
   "source": []
  },
  {
   "cell_type": "code",
   "execution_count": 36,
   "id": "56bfb02b",
   "metadata": {},
   "outputs": [
    {
     "data": {
      "text/plain": [
       "[[[99, 'y']], [3, 'c'], [100, 'z'], [100, 'z']]"
      ]
     },
     "execution_count": 36,
     "metadata": {},
     "output_type": "execute_result"
    }
   ],
   "source": [
    "my_list"
   ]
  }
 ],
 "metadata": {
  "kernelspec": {
   "display_name": "Python 3 (ipykernel)",
   "language": "python",
   "name": "python3"
  },
  "language_info": {
   "codemirror_mode": {
    "name": "ipython",
    "version": 3
   },
   "file_extension": ".py",
   "mimetype": "text/x-python",
   "name": "python",
   "nbconvert_exporter": "python",
   "pygments_lexer": "ipython3",
   "version": "3.9.7"
  }
 },
 "nbformat": 4,
 "nbformat_minor": 5
}
