{
 "cells": [
  {
   "cell_type": "markdown",
   "id": "334c4034",
   "metadata": {},
   "source": [
    "##  Markdown edits example\n",
    "\n",
    "- List\n",
    "- **Bold List**\n",
    "- _Italic List_\n",
    "    "
   ]
  },
  {
   "cell_type": "markdown",
   "id": "f7756f2a",
   "metadata": {},
   "source": [
    "- Y - Make it a code\n",
    "- M - Markdown file\n",
    "- Enter - edit mode\n",
    "- Escape - escape mode\n"
   ]
  },
  {
   "cell_type": "code",
   "execution_count": 3,
   "id": "767a2088",
   "metadata": {},
   "outputs": [
    {
     "name": "stdout",
     "output_type": "stream",
     "text": [
      "hello world\n"
     ]
    }
   ],
   "source": [
    "print('hello world')"
   ]
  },
  {
   "cell_type": "markdown",
   "id": "6b5bf6b8",
   "metadata": {},
   "source": [
    "## Data Types\n",
    "\n",
    "- Why do they matter? \n",
    "    - Working with operators it is important. Some operators wotk with certain data types\n",
    "    - If opperations on different data types are done, then we get a _TypeError_"
   ]
  },
  {
   "cell_type": "code",
   "execution_count": 4,
   "id": "9ceaf0a3",
   "metadata": {},
   "outputs": [
    {
     "data": {
      "text/plain": [
       "int"
      ]
     },
     "execution_count": 4,
     "metadata": {},
     "output_type": "execute_result"
    }
   ],
   "source": [
    "type(1)"
   ]
  },
  {
   "cell_type": "code",
   "execution_count": 5,
   "id": "2b3be9b8",
   "metadata": {},
   "outputs": [
    {
     "data": {
      "text/plain": [
       "str"
      ]
     },
     "execution_count": 5,
     "metadata": {},
     "output_type": "execute_result"
    }
   ],
   "source": [
    "type('1')"
   ]
  },
  {
   "cell_type": "code",
   "execution_count": null,
   "id": "0bfd3114",
   "metadata": {},
   "outputs": [],
   "source": [
    "# Changing types \n",
    "n = 12\n",
    "m = str(12)"
   ]
  },
  {
   "cell_type": "markdown",
   "id": "ac824e92",
   "metadata": {},
   "source": [
    "**Data Structure**\n",
    "- Data Frame is a is a data structure that organizes data into a 2-dimensional table of rows and columns, much like a spreadsheet.\n",
    "- DataFrames are one of the most common data structures used in modern data analytics because they are a flexible and intuitive way of storing and working with data."
   ]
  },
  {
   "cell_type": "markdown",
   "id": "b7563dcf",
   "metadata": {},
   "source": [
    "## Comparison and logical operators"
   ]
  },
  {
   "cell_type": "code",
   "execution_count": 8,
   "id": "580e1cbb",
   "metadata": {
    "scrolled": true
   },
   "outputs": [
    {
     "data": {
      "text/plain": [
       "1"
      ]
     },
     "execution_count": 8,
     "metadata": {},
     "output_type": "execute_result"
    }
   ],
   "source": [
    "x = True\n",
    "y = False\n",
    "\n",
    "x+y"
   ]
  },
  {
   "cell_type": "code",
   "execution_count": 9,
   "id": "768d4702",
   "metadata": {},
   "outputs": [
    {
     "data": {
      "text/plain": [
       "True"
      ]
     },
     "execution_count": 9,
     "metadata": {},
     "output_type": "execute_result"
    }
   ],
   "source": [
    "# Logical operators \n",
    "True and True"
   ]
  },
  {
   "cell_type": "markdown",
   "id": "e984e581",
   "metadata": {},
   "source": [
    "## Lists with different variable types\n",
    "- list is a data type as a combination of multiple elements \n",
    "- can store any kind of data "
   ]
  },
  {
   "cell_type": "code",
   "execution_count": 13,
   "id": "99e485a0",
   "metadata": {},
   "outputs": [],
   "source": [
    "my_list = [1,2,3, 'a', 'm']"
   ]
  },
  {
   "cell_type": "code",
   "execution_count": 16,
   "id": "c436ab93",
   "metadata": {},
   "outputs": [
    {
     "data": {
      "text/plain": [
       "str"
      ]
     },
     "execution_count": 16,
     "metadata": {},
     "output_type": "execute_result"
    }
   ],
   "source": [
    "my_list[3]\n",
    "type(my_list[3])"
   ]
  },
  {
   "cell_type": "code",
   "execution_count": 24,
   "id": "9a51d562",
   "metadata": {},
   "outputs": [
    {
     "data": {
      "text/plain": [
       "[1, 'a']"
      ]
     },
     "execution_count": 24,
     "metadata": {},
     "output_type": "execute_result"
    }
   ],
   "source": [
    "# Create a list of lists \n",
    "\n",
    "my_list = [[1,'a'], [2,'b'],[3,'c']]\n",
    "my_list[0]"
   ]
  },
  {
   "cell_type": "markdown",
   "id": "4a954501",
   "metadata": {},
   "source": [
    "### Slicing \n",
    "- Element in the stop bound is exclusive"
   ]
  },
  {
   "cell_type": "code",
   "execution_count": 26,
   "id": "45c544fb",
   "metadata": {},
   "outputs": [
    {
     "data": {
      "text/plain": [
       "[[1, 'a'], [2, 'b']]"
      ]
     },
     "execution_count": 26,
     "metadata": {},
     "output_type": "execute_result"
    }
   ],
   "source": [
    "my_list[0:2]"
   ]
  },
  {
   "cell_type": "code",
   "execution_count": 28,
   "id": "5b922ba2",
   "metadata": {},
   "outputs": [
    {
     "data": {
      "text/plain": [
       "[[1, 'a'], [2, 'b']]"
      ]
     },
     "execution_count": 28,
     "metadata": {},
     "output_type": "execute_result"
    }
   ],
   "source": [
    "my_list[:-1]"
   ]
  },
  {
   "cell_type": "code",
   "execution_count": 33,
   "id": "b7d5ba1f",
   "metadata": {},
   "outputs": [],
   "source": [
    "# Update data from a list and assign\n",
    "my_list = my_list + [[100, 'z']]\n",
    "\n",
    "# Delete \n",
    "del(my_list[0])\n",
    "\n",
    "# Replace using subsetting \n",
    "my_list[0] = [[99,'y']]"
   ]
  },
  {
   "cell_type": "code",
   "execution_count": 36,
   "id": "8f5cada5",
   "metadata": {
    "scrolled": true
   },
   "outputs": [
    {
     "data": {
      "text/plain": [
       "[[[99, 'y']], [3, 'c'], [100, 'z'], [100, 'z']]"
      ]
     },
     "execution_count": 36,
     "metadata": {},
     "output_type": "execute_result"
    }
   ],
   "source": [
    "my_list"
   ]
  },
  {
   "cell_type": "markdown",
   "id": "1b1dd94e",
   "metadata": {},
   "source": [
    "### Tuple\n",
    "- Collection of elements from different data types \n",
    "- They are immutable lists \n",
    "- They can be unpacked "
   ]
  },
  {
   "cell_type": "markdown",
   "id": "af2d5c76",
   "metadata": {},
   "source": [
    "### Dictionary \n",
    "\n",
    "- Dictionaries and lists are hashed data structures\n",
    "- Used to map a set of objects to another set of objects using key-value pair "
   ]
  },
  {
   "cell_type": "code",
   "execution_count": 38,
   "id": "e74599d8",
   "metadata": {
    "scrolled": true
   },
   "outputs": [
    {
     "ename": "SyntaxError",
     "evalue": "invalid syntax (Temp/ipykernel_33404/1793482755.py, line 2)",
     "output_type": "error",
     "traceback": [
      "\u001b[1;36m  File \u001b[1;32m\"C:\\Users\\dobre\\AppData\\Local\\Temp/ipykernel_33404/1793482755.py\"\u001b[1;36m, line \u001b[1;32m2\u001b[0m\n\u001b[1;33m    Piece of code that repeats\u001b[0m\n\u001b[1;37m          ^\u001b[0m\n\u001b[1;31mSyntaxError\u001b[0m\u001b[1;31m:\u001b[0m invalid syntax\n"
     ]
    }
   ],
   "source": [
    "### Functions\n",
    "Piece of code that repeats \n",
    "- arguments are input to the functions "
   ]
  },
  {
   "cell_type": "markdown",
   "id": "bae0b476",
   "metadata": {},
   "source": [
    "### Methods \n",
    "\n",
    "- specilal functions that belong to specifi type \n",
    "- after the data, followed by dor, function name and pharantesis\n",
    "\n"
   ]
  },
  {
   "cell_type": "code",
   "execution_count": 39,
   "id": "7c4ceba4",
   "metadata": {},
   "outputs": [
    {
     "data": {
      "text/plain": [
       "'TEST'"
      ]
     },
     "execution_count": 39,
     "metadata": {},
     "output_type": "execute_result"
    }
   ],
   "source": [
    "var = 'test'\n",
    "var.upper()"
   ]
  },
  {
   "cell_type": "code",
   "execution_count": null,
   "id": "9b2f3bf2",
   "metadata": {},
   "outputs": [],
   "source": []
  },
  {
   "cell_type": "code",
   "execution_count": null,
   "id": "e473ce0b",
   "metadata": {},
   "outputs": [],
   "source": []
  },
  {
   "cell_type": "markdown",
   "id": "af779b43",
   "metadata": {},
   "source": [
    "### Udf\n",
    "- save time\n",
    "- include docstrings "
   ]
  },
  {
   "cell_type": "code",
   "execution_count": 41,
   "id": "def02f2e",
   "metadata": {},
   "outputs": [
    {
     "ename": "NameError",
     "evalue": "name 'str1' is not defined",
     "output_type": "error",
     "traceback": [
      "\u001b[1;31m---------------------------------------------------------------------------\u001b[0m",
      "\u001b[1;31mNameError\u001b[0m                                 Traceback (most recent call last)",
      "\u001b[1;32m~\\AppData\\Local\\Temp/ipykernel_33404/3755043285.py\u001b[0m in \u001b[0;36m<module>\u001b[1;34m\u001b[0m\n\u001b[0;32m      3\u001b[0m     \u001b[1;32mreturn\u001b[0m \u001b[0mstr\u001b[0m\u001b[1;33m(\u001b[0m\u001b[0mstr1\u001b[0m\u001b[1;33m)\u001b[0m \u001b[1;33m+\u001b[0m \u001b[0mstr\u001b[0m\u001b[1;33m(\u001b[0m\u001b[0mstr2\u001b[0m\u001b[1;33m)\u001b[0m\u001b[1;33m\u001b[0m\u001b[1;33m\u001b[0m\u001b[0m\n\u001b[0;32m      4\u001b[0m \u001b[1;33m\u001b[0m\u001b[0m\n\u001b[1;32m----> 5\u001b[1;33m \u001b[0mconcatenate_strings\u001b[0m\u001b[1;33m(\u001b[0m\u001b[1;34m'a'\u001b[0m\u001b[1;33m,\u001b[0m\u001b[1;34m'b'\u001b[0m\u001b[1;33m)\u001b[0m\u001b[1;33m\u001b[0m\u001b[1;33m\u001b[0m\u001b[0m\n\u001b[0m",
      "\u001b[1;32m~\\AppData\\Local\\Temp/ipykernel_33404/3755043285.py\u001b[0m in \u001b[0;36mconcatenate_strings\u001b[1;34m(str_1, str_2)\u001b[0m\n\u001b[0;32m      1\u001b[0m \u001b[1;32mdef\u001b[0m \u001b[0mconcatenate_strings\u001b[0m\u001b[1;33m(\u001b[0m\u001b[0mstr_1\u001b[0m\u001b[1;33m,\u001b[0m \u001b[0mstr_2\u001b[0m\u001b[1;33m)\u001b[0m\u001b[1;33m:\u001b[0m\u001b[1;33m\u001b[0m\u001b[1;33m\u001b[0m\u001b[0m\n\u001b[0;32m      2\u001b[0m     \u001b[1;34m\"\"\" Add two strings \"\"\"\u001b[0m\u001b[1;33m\u001b[0m\u001b[1;33m\u001b[0m\u001b[0m\n\u001b[1;32m----> 3\u001b[1;33m     \u001b[1;32mreturn\u001b[0m \u001b[0mstr\u001b[0m\u001b[1;33m(\u001b[0m\u001b[0mstr1\u001b[0m\u001b[1;33m)\u001b[0m \u001b[1;33m+\u001b[0m \u001b[0mstr\u001b[0m\u001b[1;33m(\u001b[0m\u001b[0mstr2\u001b[0m\u001b[1;33m)\u001b[0m\u001b[1;33m\u001b[0m\u001b[1;33m\u001b[0m\u001b[0m\n\u001b[0m\u001b[0;32m      4\u001b[0m \u001b[1;33m\u001b[0m\u001b[0m\n\u001b[0;32m      5\u001b[0m \u001b[0mconcatenate_strings\u001b[0m\u001b[1;33m(\u001b[0m\u001b[1;34m'a'\u001b[0m\u001b[1;33m,\u001b[0m\u001b[1;34m'b'\u001b[0m\u001b[1;33m)\u001b[0m\u001b[1;33m\u001b[0m\u001b[1;33m\u001b[0m\u001b[0m\n",
      "\u001b[1;31mNameError\u001b[0m: name 'str1' is not defined"
     ]
    }
   ],
   "source": [
    "def concatenate_strings(str_1, str_2):\n",
    "    \"\"\" Add two strings \"\"\"\n",
    "    return str(str1) + str(str2)\n",
    "\n",
    "concatenate_strings('a','b')"
   ]
  }
 ],
 "metadata": {
  "kernelspec": {
   "display_name": "Python 3 (ipykernel)",
   "language": "python",
   "name": "python3"
  },
  "language_info": {
   "codemirror_mode": {
    "name": "ipython",
    "version": 3
   },
   "file_extension": ".py",
   "mimetype": "text/x-python",
   "name": "python",
   "nbconvert_exporter": "python",
   "pygments_lexer": "ipython3",
   "version": "3.9.7"
  }
 },
 "nbformat": 4,
 "nbformat_minor": 5
}
