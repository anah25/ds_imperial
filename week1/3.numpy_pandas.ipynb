{
 "cells": [
  {
   "cell_type": "markdown",
   "id": "55ebe9e6",
   "metadata": {},
   "source": [
    "## Arrays\n",
    "- elements from numpy\n",
    "- elements of python lists: data recorded in2 lists. "
   ]
  },
  {
   "cell_type": "code",
   "execution_count": 2,
   "id": "d140a4a6",
   "metadata": {
    "scrolled": true
   },
   "outputs": [
    {
     "ename": "TypeError",
     "evalue": "unsupported operand type(s) for /: 'list' and 'list'",
     "output_type": "error",
     "traceback": [
      "\u001b[1;31m---------------------------------------------------------------------------\u001b[0m",
      "\u001b[1;31mTypeError\u001b[0m                                 Traceback (most recent call last)",
      "\u001b[1;32m~\\AppData\\Local\\Temp/ipykernel_46412/2891348664.py\u001b[0m in \u001b[0;36m<module>\u001b[1;34m\u001b[0m\n\u001b[0;32m      1\u001b[0m \u001b[0mmass\u001b[0m \u001b[1;33m=\u001b[0m \u001b[1;33m[\u001b[0m\u001b[1;36m10\u001b[0m\u001b[1;33m,\u001b[0m \u001b[1;36m20\u001b[0m\u001b[1;33m]\u001b[0m\u001b[1;33m\u001b[0m\u001b[1;33m\u001b[0m\u001b[0m\n\u001b[0;32m      2\u001b[0m \u001b[0mvolume\u001b[0m \u001b[1;33m=\u001b[0m \u001b[1;33m[\u001b[0m\u001b[1;36m25\u001b[0m\u001b[1;33m,\u001b[0m \u001b[1;36m35\u001b[0m\u001b[1;33m]\u001b[0m\u001b[1;33m\u001b[0m\u001b[1;33m\u001b[0m\u001b[0m\n\u001b[1;32m----> 3\u001b[1;33m \u001b[0mmass\u001b[0m\u001b[1;33m/\u001b[0m\u001b[0mvolume\u001b[0m\u001b[1;33m\u001b[0m\u001b[1;33m\u001b[0m\u001b[0m\n\u001b[0m",
      "\u001b[1;31mTypeError\u001b[0m: unsupported operand type(s) for /: 'list' and 'list'"
     ]
    }
   ],
   "source": [
    "mass = [10, 20]\n",
    "volume = [25, 35]\n",
    "mass/volume"
   ]
  },
  {
   "cell_type": "code",
   "execution_count": 4,
   "id": "a0ff2c63",
   "metadata": {
    "scrolled": false
   },
   "outputs": [
    {
     "data": {
      "text/plain": [
       "array([0.4       , 0.57142857])"
      ]
     },
     "execution_count": 4,
     "metadata": {},
     "output_type": "execute_result"
    }
   ],
   "source": [
    "# Calculations can be performed across arrays \n",
    "# Function array will change into an array datya type \n",
    "# Arrays contain one data type, can index and sbset\n",
    "\n",
    "import numpy as np \n",
    "\n",
    "mass_array = np.array(mass)\n",
    "volume_array = np.array(volume)\n",
    "\n",
    "mass_array/volume_array"
   ]
  },
  {
   "cell_type": "code",
   "execution_count": 6,
   "id": "de9917b2",
   "metadata": {},
   "outputs": [],
   "source": [
    "# 2D numpy arrays \n",
    "massvolume = [[10, 20],  [25, 35] ]\n",
    "massvolume_array = np.array(massvolume)"
   ]
  },
  {
   "cell_type": "code",
   "execution_count": 7,
   "id": "06b45623",
   "metadata": {},
   "outputs": [
    {
     "data": {
      "text/plain": [
       "numpy.ndarray"
      ]
     },
     "execution_count": 7,
     "metadata": {},
     "output_type": "execute_result"
    }
   ],
   "source": [
    "type(massvolume_array)"
   ]
  },
  {
   "cell_type": "code",
   "execution_count": 9,
   "id": "54d5e9f8",
   "metadata": {
    "scrolled": true
   },
   "outputs": [
    {
     "data": {
      "text/plain": [
       "(2, 2)"
      ]
     },
     "execution_count": 9,
     "metadata": {},
     "output_type": "execute_result"
    }
   ],
   "source": [
    "massvolume_array.shape"
   ]
  },
  {
   "cell_type": "markdown",
   "id": "6f7f2a0f",
   "metadata": {},
   "source": [
    "### Looping over 2D numpy arrays "
   ]
  },
  {
   "cell_type": "code",
   "execution_count": 11,
   "id": "437d45e7",
   "metadata": {
    "scrolled": true
   },
   "outputs": [
    {
     "name": "stdout",
     "output_type": "stream",
     "text": [
      "[10 20]\n",
      "[25 35]\n"
     ]
    }
   ],
   "source": [
    "for value in massvolume_array:\n",
    "    print(value)"
   ]
  },
  {
   "cell_type": "code",
   "execution_count": 12,
   "id": "09e3ed98",
   "metadata": {
    "scrolled": true
   },
   "outputs": [
    {
     "name": "stdout",
     "output_type": "stream",
     "text": [
      "10\n",
      "20\n",
      "25\n",
      "35\n"
     ]
    }
   ],
   "source": [
    "for value in np.nditer(massvolume_array):\n",
    "    print(value)"
   ]
  },
  {
   "cell_type": "code",
   "execution_count": 13,
   "id": "69a08e29",
   "metadata": {
    "scrolled": false
   },
   "outputs": [
    {
     "name": "stdout",
     "output_type": "stream",
     "text": [
      "10\n",
      "20\n"
     ]
    }
   ],
   "source": [
    "for value in np.nditer(massvolume_array[0]):\n",
    "    print(value)"
   ]
  },
  {
   "cell_type": "code",
   "execution_count": 16,
   "id": "8e2d963b",
   "metadata": {
    "scrolled": true
   },
   "outputs": [
    {
     "data": {
      "text/html": [
       "<div>\n",
       "<style scoped>\n",
       "    .dataframe tbody tr th:only-of-type {\n",
       "        vertical-align: middle;\n",
       "    }\n",
       "\n",
       "    .dataframe tbody tr th {\n",
       "        vertical-align: top;\n",
       "    }\n",
       "\n",
       "    .dataframe thead th {\n",
       "        text-align: right;\n",
       "    }\n",
       "</style>\n",
       "<table border=\"1\" class=\"dataframe\">\n",
       "  <thead>\n",
       "    <tr style=\"text-align: right;\">\n",
       "      <th></th>\n",
       "      <th>College</th>\n",
       "      <th>Accepted</th>\n",
       "    </tr>\n",
       "  </thead>\n",
       "  <tbody>\n",
       "    <tr>\n",
       "      <th>0</th>\n",
       "      <td>ASE</td>\n",
       "      <td>True</td>\n",
       "    </tr>\n",
       "    <tr>\n",
       "      <th>1</th>\n",
       "      <td>Poli</td>\n",
       "      <td>False</td>\n",
       "    </tr>\n",
       "  </tbody>\n",
       "</table>\n",
       "</div>"
      ],
      "text/plain": [
       "  College  Accepted\n",
       "0     ASE      True\n",
       "1    Poli     False"
      ]
     },
     "execution_count": 16,
     "metadata": {},
     "output_type": "execute_result"
    }
   ],
   "source": [
    "### Pandas \n",
    "import pandas as pd \n",
    "\n",
    "my_dict = {\n",
    "    'College':['ASE', 'Poli'],\n",
    "    'Accepted':[True, False]\n",
    "}\n",
    "my_df = pd.DataFrame(my_dict)\n",
    "my_df"
   ]
  },
  {
   "cell_type": "code",
   "execution_count": 17,
   "id": "a1e4739c",
   "metadata": {},
   "outputs": [],
   "source": [
    "### Pandas \n",
    "import statsmodels.api as sm\n",
    "iris = sm.datasets.get_rdataset('iris').data\n"
   ]
  },
  {
   "cell_type": "code",
   "execution_count": 21,
   "id": "d4a8e877",
   "metadata": {
    "scrolled": true
   },
   "outputs": [
    {
     "data": {
      "text/plain": [
       "pandas.core.frame.DataFrame"
      ]
     },
     "execution_count": 21,
     "metadata": {},
     "output_type": "execute_result"
    }
   ],
   "source": [
    "# Use double square brackets to select mul;ttiple columns\n",
    "type(iris[['Sepal.Length']])"
   ]
  },
  {
   "cell_type": "code",
   "execution_count": 28,
   "id": "52c7faf5",
   "metadata": {
    "scrolled": true
   },
   "outputs": [
    {
     "data": {
      "text/plain": [
       "0    1.4\n",
       "1    1.4\n",
       "2    1.3\n",
       "Name: Petal.Length, dtype: float64"
      ]
     },
     "execution_count": 28,
     "metadata": {},
     "output_type": "execute_result"
    }
   ],
   "source": [
    "# Use numbers to select data \n",
    "iris.iloc[0:3,2]"
   ]
  },
  {
   "cell_type": "code",
   "execution_count": 30,
   "id": "d1dee7a5",
   "metadata": {},
   "outputs": [
    {
     "data": {
      "text/plain": [
       "3.7580000000000027"
      ]
     },
     "execution_count": 30,
     "metadata": {},
     "output_type": "execute_result"
    }
   ],
   "source": [
    "## Numpy\n",
    "\n",
    "iris.columns\n",
    "np.mean(iris['Petal.Length'])"
   ]
  },
  {
   "cell_type": "code",
   "execution_count": null,
   "id": "1ced3b41",
   "metadata": {},
   "outputs": [],
   "source": []
  }
 ],
 "metadata": {
  "kernelspec": {
   "display_name": "Python 3 (ipykernel)",
   "language": "python",
   "name": "python3"
  },
  "language_info": {
   "codemirror_mode": {
    "name": "ipython",
    "version": 3
   },
   "file_extension": ".py",
   "mimetype": "text/x-python",
   "name": "python",
   "nbconvert_exporter": "python",
   "pygments_lexer": "ipython3",
   "version": "3.9.7"
  }
 },
 "nbformat": 4,
 "nbformat_minor": 5
}
