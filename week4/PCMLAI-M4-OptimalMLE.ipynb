{
 "cells": [
  {
   "cell_type": "code",
   "execution_count": 31,
   "id": "1dbc9899",
   "metadata": {},
   "outputs": [],
   "source": [
    "import numpy as np\n",
    "from scipy import optimize\n",
    "from scipy.stats import bernoulli\n",
    "import math\n",
    "from matplotlib import pyplot as plt\n",
    "from scipy.special import psi"
   ]
  },
  {
   "cell_type": "markdown",
   "id": "f6555a4c",
   "metadata": {},
   "source": [
    "## Maximum Likelihood Estimation \n",
    "### Optimization Point of View"
   ]
  },
  {
   "cell_type": "markdown",
   "id": "a8599082",
   "metadata": {},
   "source": [
    "### Formalizing MLE of Bernuolli Distributions\n",
    "Recall that in our previous MLE application, we were trying to estimate the probability of \"H\" showing after a random coin flip of a specific loaded coin. We did not focus on the details of how to derive such MLE estimation (where we were simply averaging the number of times where \"H\" shows up). Let us investigate this in more detail here."
   ]
  },
  {
   "cell_type": "markdown",
   "id": "e27c2b95",
   "metadata": {},
   "source": [
    "**Problem Source:** We borrow and modify the problem from Section 24.1 of ```Shalev-Shwartz, S. & Ben-David, S. (2014). Understanding machine learning: From theory to algorithms. Cambridge university press.```\n",
    "\n",
    "**Problem Description:** A drug company discovered a new drug that is hoped to treat COVID-19 in high-risk groups. You have a random sample of $n$ high-risk volunteering people and give each of them the new drug. Such training set can be represented as $\\mathcal{X} = (x_1, \\ldots, x_n)$ where $x_i =1$ if the $i$-th patient is recovered and $x_i = 0$ otherwise. We assume the true probability of survival is $\\theta$ for a single individual, i.e., the survival has a Bernuolli distribution. \n",
    "\n",
    "**Question:** How would you estimate $\\theta$ from $\\mathcal{X}$? "
   ]
  },
  {
   "cell_type": "markdown",
   "id": "3c644301",
   "metadata": {},
   "source": [
    "**Answer:** Previously we used the following estimation that is *very* intuitive\n",
    "$$\\hat{\\theta} = \\frac{1}{n} \\sum_{i=1}^n x_i.$$\n",
    "But what is special about this estimation? The first advantage is that it is unbiased. To see this, recall that when we do not see $\\mathcal{X}$ yet, we know that it is a collection of $n$ Bernuolli variables $X_i, \\ i=1,\\ldots,n$. We can derive:\n",
    "\\begin{align*}\n",
    "\\mathbb{E}_{\\mathcal{X}} [\\hat{\\theta}] & = \\frac{1}{n}\\mathbb{E}\\left[ {\\sum_{i=1}^n X_i} \\right] \\\\\n",
    "& = \\frac{1}{n} \\left( \\sum_{i=1}^n \\mathbb{E}\\left[ X_i \\right] \\right) \\\\\n",
    "& = \\frac{1}{n} \\left( \\sum_{i=1}^n  1 \\cdot \\mathbb{P}[X_i = 1] + 0 \\cdot \\mathbb{P}[X_i = 0] \\right) \\\\\n",
    "& = \\frac{1}{n} \\left( \\sum_{i=1}^n  \\theta \\right) \\\\\n",
    "& = \\theta.\n",
    "\\end{align*}\n",
    "So we can see that, for a randomly drawn sample of $n$ people, we expect our estimator $\\hat{\\theta}$ to be equal to $\\theta$. This is the property telling we have an *unbiased estimator of $\\theta$*. Let us summarize this process in a case study where $n=100$ and $\\theta = 0.8$."
   ]
  },
  {
   "cell_type": "code",
   "execution_count": 32,
   "id": "0ca50aa3",
   "metadata": {},
   "outputs": [
    {
     "name": "stdout",
     "output_type": "stream",
     "text": [
      "The true value of theta is 0.8 and our unbiased estimation is 0.85\n"
     ]
    }
   ],
   "source": [
    "np.random.seed(0)\n",
    "theta = 0.8 #probability of survival\n",
    "n = 100 #number of patients in the trial\n",
    "sample = bernoulli.rvs(theta, size = 100) #take a single sample of 100-patients\n",
    "estimator = np.mean(sample)\n",
    "print(r\"The true value of theta is\", theta, \"and our unbiased estimation is\", estimator)"
   ]
  },
  {
   "cell_type": "markdown",
   "id": "e0279f33",
   "metadata": {},
   "source": [
    "As we observe, there is a difference between $\\hat{\\theta}$ and $\\theta$, so we have some bias in our estimation. Then why do we claim $\\hat{\\theta}$ is unbiased? The answer is, our $\\hat{\\theta}$ only sees a single sample of $100$ patients, and there is no guarantee that these $100$ patients will have precisely $80$ survival (otherwise we are living in a world with no uncertainty). What unbiased estimator means is that, if we have the above experiment a lot of times, then the average of our estimations will be $0.8$. Let us observe this."
   ]
  },
  {
   "cell_type": "code",
   "execution_count": 33,
   "id": "9406279b",
   "metadata": {},
   "outputs": [
    {
     "name": "stdout",
     "output_type": "stream",
     "text": [
      "The average of all estimations is 0.799\n"
     ]
    }
   ],
   "source": [
    "simulations = 10000 #large number to iterate above experiment. We can think this as 10000 different worlds.\n",
    "theta = 0.8 #probability of survival\n",
    "n = 100 #number of patients in the trial\n",
    "estimators = np.zeros(simulations)\n",
    "for sim in range(simulations):\n",
    "    sample_temp = bernoulli.rvs(theta, size = 100) #take a new sample of 100-patients\n",
    "    estimators[sim] = np.mean(sample_temp)\n",
    "average_estimator = np.mean(estimators)\n",
    "print(\"The average of all estimations is\", np.round(average_estimator,3))"
   ]
  },
  {
   "cell_type": "markdown",
   "id": "90cbb173",
   "metadata": {},
   "source": [
    "**Discussion:** Now we understand what is an *unbiased estimator* of the true parameter of the underlying distribiution. In most cases, the *unbiased estimator* is not necessarily the *maximum likelihood estimator* (if, for example, $X_i$ were normally distributed, the maximum likelihood standard deviation estimator would not be unbiased). So it is important to understand the key difference between having an *unbiased estimator* and a *maximum likelihood estimator*. Let us first define the maximum likelihood estimation principle, which is very interesting both practically and philosophically."
   ]
  },
  {
   "cell_type": "markdown",
   "id": "1fc370fb",
   "metadata": {},
   "source": [
    "**<span style=\"color:blue\">MLE STEP 1: Derive the likelihood function. </span>**\n",
    "We know that there is a true $\\theta$ from which each of the $X_i$ in our $\\mathcal{X}$ is sampled, and the realizations are $X_i = x_i$ for all $i=1,\\ldots,n$. Instead of asking \"does averaging $x_i$ work\", here we ask \"which $\\theta \\in [0,1]$ would be the *most likely* to generate such a sample $\\mathcal{X}$?\". For this purpose, we first write the probability of seeing such $X_i = x_i$ sequence for $i = 1,\\ldots,n$ for an arbitrary $\\theta$.\n",
    "\\begin{align*}\n",
    "\\mathbb{P}[X_1 =x_1, \\ldots, X_n = x_n] &= \\prod_{i=1}^n \\mathbb{P}[X_i =x_i] \\\\\n",
    "& =\\prod_{i=1}^n  \\{\\theta \\text{ if $x_i = 1$; otherwise } 1-\\theta \\} \\\\\n",
    "& =\\prod_{i=1}^n  \\theta^{x_i} (1- \\theta)^{1 - x_i} \\\\\n",
    "& = \\theta^{\\sum_{i=1}^n x_i} (1-\\theta)^{\\sum_{i=1}^n (1-x_i)}.\n",
    "\\end{align*}\n",
    "The *maximum likelihood estimator* $\\theta^\\star$ would be the $\\theta$ that maximizes this probability. However, maximizing a function $\\theta^{85} \\cdot (1-\\theta)^{15}$ is quite hard for most computers and solvers. How can we overcome this issue?"
   ]
  },
  {
   "cell_type": "markdown",
   "id": "6478255e",
   "metadata": {},
   "source": [
    "**<span style=\"color:blue\">MLE STEP 2: Derive the log-likelihood function. </span>**\n",
    "We take $\\ell(\\theta) := \\log \\mathbb{P}[X_1 =x_1, \\ldots, X_n = x_n]$ as the log-likelihood function. The trick is, logarithm is a non-decreasing function. Hence, the $\\theta^\\star$ that maximizes the likelihood function will also maximize the log-likelihood function. In this case, we apply simple logarithm properties to obtain:\n",
    "\\begin{align*}\n",
    "\\ell(\\theta) & = \\log \\left[ \\theta^{\\sum_{i=1}^n x_i} (1-\\theta)^{\\sum_{i=1}^n (1-x_i)} \\right] \\\\\n",
    "&=\\log \\left[ \\theta^{\\sum_{i=1}^n x_i} \\right] +  \\log \\left[ (1-\\theta)^{\\sum_{i=1}^n (1-x_i)} \\right] \\\\\n",
    "& = \\left(\\sum_{i=1}^n x_i \\right) \\log [\\theta] + \\left(\\sum_{i=1}^n (1-x_i)\\right) \\log [1 - \\theta]\n",
    "\\end{align*}"
   ]
  },
  {
   "cell_type": "markdown",
   "id": "9d574878",
   "metadata": {},
   "source": [
    "**<span style=\"color:blue\">MLE STEP 3: Find the $\\theta^\\star$ that optimizes the log-likelihood function. </span>**\n",
    "This function we just derived is a sum of two logarithms (with linear inputs of $\\theta$), hence log-likelihood in this case is a concave function (it is important to remember that the $x_i$'s are fixed, hence the only variable is $\\theta$). Taking the first order conditions would therefore give us the global maximizer. Formally:\n",
    "\\begin{align*}\n",
    "\\dfrac{ \\mathrm{d}\\left[ \\left(\\sum_{i=1}^n x_i \\right) \\log [\\theta] + \\left(\\sum_{i=1}^n (1-x_i)\\right) \\log [1 - \\theta] \\right]}{\\mathrm{d} \\theta} &= \\frac{\\sum_{i=1}^n x_i}{\\theta} - \\frac{\\sum_{i=1}^n (1-x_i)}{1-\\theta} \\\\\n",
    "& = \\frac{(1-\\theta)\\sum_{i=1}^n x_i}{(1-\\theta)\\theta} - \\frac{\\theta \\sum_{i=1}^n (1-x_i)}{(1-\\theta)\\theta}\n",
    "\\end{align*}\n",
    "and as the optimal $\\theta^\\star$ sets this expression to $0$, we shall have \n",
    "\\begin{align*}\n",
    "& (1-\\theta^\\star)\\sum_{i=1}^n x_i = \\theta^\\star \\sum_{i=1}^n (1-x_i)\\\\\n",
    "\\iff & \\sum_{i=1}^n x_i - \\theta^\\star \\sum_{i=1}^n x_i = \\theta^\\star n - \\theta^\\star \\sum_{i=1}^n x_i \\\\\n",
    "\\iff & \\sum_{i=1}^n x_i = \\theta^\\star n  \\\\\n",
    "\\iff & \\theta^\\star = \\frac{\\sum_{i=1}^n x_i }{n}.\n",
    "\\end{align*}\n",
    "We just deried $\\theta^\\star$. Notice that this is identical to $\\hat{\\theta}$, the unbiased estimator we previously derived. So, the naive estimator that we have been using turns out to be the maximum likelihood estimator. \n",
    "\n",
    "Note: due to the arithmetic operations we implicitly assumed $\\theta$ is not equal to $0$ or $1$. If true $\\theta$ was equal to $0$ or $1$, then all of $x_i$ we observe would be equal to each other, and in this case $\\theta^\\star = \\hat{\\theta} = \\theta$ trivially follows."
   ]
  },
  {
   "cell_type": "markdown",
   "id": "d701d06c",
   "metadata": {},
   "source": [
    "**Exercise Question:** Can you apply Bootstrapping to construct a confidence interval on $\\theta$ when you are only given the realization of $\\mathcal{X}$?"
   ]
  },
  {
   "cell_type": "markdown",
   "id": "604a1abc",
   "metadata": {},
   "source": [
    "### MLE in the case of a continuous variable\n",
    "Recall that previously we defined the likelihood function as $\\mathbb{P}[X_1 =x_1, \\ldots, X_n = x_n]$ and since we were working with independent variables this was equal to $\\prod_{i=1}^n \\mathbb{P}[X_i = x_i]$. What if we have a continuous variable? For example, if $X_1$ is normally distributed, what is $\\mathbb{P}[X_1 = x_1]$? The answer is $0$, since a continuous variable on a non-empty support can take uncountably many values, so intuitively there is no chance that we will see a specific value. So the previous application of MLE is not applicable here as the probability of seeing any sample will be $0$ for a continuous variable. \n",
    "\n",
    "To fix this issue, we define the 'likelihood' slighlty different than the 'probability'. Recall that although the probability of $\\mathbb{P}[X_1 = x_1]$ is $0$, we have that $\\mathbb{P}[X_1 \\in [x_1 - \\epsilon, x_1 + \\epsilon]] > 0$ in most cases for small $\\epsilon$. The intuition behind is that although the event $X_1 = x_1$ is impossible to have, there is a positie probability that $X_1$ will be in a (small) neighborhood of $x_1$. We therefore define the likelihood of the event $X_1 = x_1$ via the probability density of $x_1$ assigned by the distribution of $X_1$.\n",
    "\n",
    "**Exercise Question** Let $X$ be a continuous random variable with density function $f(\\cdot)$. What is the relation between $\\mathbb{P}[X \\in [x - \\epsilon, x + \\epsilon]]$ for small $\\epsilon$, and the denisty $f(x)$? "
   ]
  },
  {
   "cell_type": "markdown",
   "id": "256d323c",
   "metadata": {},
   "source": [
    "Hence, for continuous variables, the likelihood of seeing $\\mathcal{X} = \\{X_1 = x_1, \\ X_2 = x_2, \\ldots, \\ X_n = x_n\\}$ (where $X_i$ are i.i.d. continuous variables) is\n",
    "$$L( \\mathcal{X} ) = \\prod_{i=1}^n f(x_i).$$\n",
    "In general, the likelihood is a function of the parameters that define the density function $f$, and we also represent them in the likelihood notation. For example, if $f$ is parametrized by some $\\alpha, \\ \\beta$, we denote:\n",
    "$$L( \\mathcal{X} | \\alpha, \\beta) = \\prod_{i=1}^n f(x_i).$$"
   ]
  },
  {
   "cell_type": "markdown",
   "id": "8ebe1eae",
   "metadata": {},
   "source": [
    "### MLE of Normal Distributions\n",
    "Let us similarly define $\\mathcal{X} = \\{X_1 = x_1, \\ X_2 = x_2, \\ldots, \\ X_n = x_n \\}$ as the sample we have. This time, $X_i$ are i.i.d. normal variables with mean $\\mu$ and standard deviation $\\sigma$. Let us simulate this for $\\mu = 1$ and $\\sigma = 0.5$ (but recall that in MLE we do not know these values, we just see $\\mathcal{X}$!"
   ]
  },
  {
   "cell_type": "code",
   "execution_count": 34,
   "id": "fe545e1e",
   "metadata": {},
   "outputs": [],
   "source": [
    "np.random.seed(0)\n",
    "sigma = 0.5 #std\n",
    "mu = 1 #mean\n",
    "n = 200 #let us hage n = 200\n",
    "sample = np.random.normal(mu, sigma, n)"
   ]
  },
  {
   "cell_type": "markdown",
   "id": "3d0d7f51",
   "metadata": {},
   "source": [
    "Recall that the unbiased estimation of $\\mu$ and $\\sigma$ are given as\n",
    "\\begin{align*}\n",
    "& \\hat{\\mu} = \\dfrac{1}{n} \\sum_{i=1}^n x_i \\\\\n",
    "& \\hat{\\sigma} = \\sqrt{\\dfrac{1}{n-1} \\sum_{i=1}^n (x_i - \\hat{\\mu})^2}\n",
    "\\end{align*}\n",
    "Let us next derive the maximum likelihood estimations of $\\mu$ and $\\sigma$ next by using the previous steps."
   ]
  },
  {
   "cell_type": "markdown",
   "id": "ec4131d6",
   "metadata": {},
   "source": [
    "**<span style=\"color:blue\">MLE STEP 1: Derive the likelihood function. </span>**\n",
    "Since $f(x) = \\dfrac{1}{\\sigma \\sqrt{2\\pi}} \\exp \\left[ - \\dfrac{(x- \\mu)^2}{2 \\sigma^2} \\right]$ is the density function of a normal variable with mean $\\mu$ and standard deviation $\\sigma$, we derive:\n",
    "$$L( \\mathcal{X} | \\mu, \\sigma) = \\prod_{i=1}^n f(x_i) = \\dfrac{1}{(\\sigma \\sqrt{2\\pi})^n} \\prod_{i=1}^n \\exp \\left[ - \\dfrac{(x_i - \\mu)^2}{2 \\sigma^2} \\right] = \\dfrac{1}{(\\sigma \\sqrt{2\\pi})^n} \\exp \\left[ - \\dfrac{\\sum_{i=1}^n (x_i - \\mu)^2}{2 \\sigma^2} \\right].$$"
   ]
  },
  {
   "cell_type": "markdown",
   "id": "360c8bad",
   "metadata": {},
   "source": [
    "**<span style=\"color:blue\">MLE STEP 2: Derive the log-likelihood function. </span>**\n",
    "It immediately follows that:\n",
    "\\begin{align*}\n",
    "\\ell(x | \\mu, \\sigma) &= \\log \\left(\\dfrac{1}{(\\sigma \\sqrt{2\\pi})^n} \\exp \\left[ - \\dfrac{\\sum_{i=1}^n (x_i - \\mu)^2}{2 \\sigma^2} \\right] \\right) \\\\\n",
    "& = - n \\log(\\sigma \\sqrt{2 \\pi}) - \\dfrac{\\sum_{i=1}^n (x_i - \\mu)^2}{2 \\sigma^2}\n",
    "\\end{align*}"
   ]
  },
  {
   "cell_type": "markdown",
   "id": "14b212ea",
   "metadata": {},
   "source": [
    "**<span style=\"color:blue\">MLE STEP 3: Find the $\\mu^\\star, \\ \\sigma^\\star$ values that maximize the log-likelihood function. </span>**\n",
    "As before, the log-likelihood function is concave in $\\mu$ and $\\sigma$, hence taking the first order conditions would give us the solution that maximizes the log-likelihood. To this end, we derive:\n",
    "\\begin{align*}\n",
    "& \\dfrac{\\partial \\ell (x | \\mu, \\sigma)}{\\partial \\mu} = \\dfrac{1}{2\\sigma^2} \\sum_{i=1}^n (x_i - \\mu) \\\\\n",
    "& \\dfrac{\\partial \\ell (x | \\mu, \\sigma)}{\\partial \\sigma} = - \\dfrac{n}{\\sigma} + \\dfrac{1}{\\sigma^3} \\sum_{i=1}^n (x_i - \\mu)^2.\n",
    "\\end{align*}\n",
    "Setting both expressions to $0$ give us the MLE solutions $\\mu^\\star, \\ \\sigma^\\star$ as:\n",
    "\\begin{align*}\n",
    "& \\mu^\\star = \\dfrac{1}{n} \\sum_{i=1}^n x_i\\\\\n",
    "& \\sigma^\\star = \\sqrt{\\dfrac{1}{n} \\sum_{i=1}^n (x_i - {\\mu^\\star})^2}.\n",
    "\\end{align*}\n",
    "Notice that $\\mu^\\star$ is the same as the unbiased estimate $\\hat{\\mu}$. However, $\\sigma^\\star$ is different than the unbiased estimate $\\hat{\\sigma}$ and it is a biased estimation. \n",
    "\n",
    "Next we code to find the MLE solution."
   ]
  },
  {
   "cell_type": "code",
   "execution_count": 35,
   "id": "d9594c73",
   "metadata": {},
   "outputs": [
    {
     "name": "stdout",
     "output_type": "stream",
     "text": [
      "MLE estimator of the mean is 1.035 and the std is 0.511\n"
     ]
    }
   ],
   "source": [
    "mu_star = np.mean(sample)\n",
    "sigma_star = np.sqrt((1/n) * np.sum((sample - mu_star)**2))\n",
    "print(\"MLE estimator of the mean is\", round(mu_star,3), \"and the std is\", round(sigma_star,3))"
   ]
  },
  {
   "cell_type": "code",
   "execution_count": 36,
   "id": "81270d80",
   "metadata": {},
   "outputs": [
    {
     "name": "stdout",
     "output_type": "stream",
     "text": [
      "Unbiased esimator of the mean is 1.035 and the std is 0.512\n"
     ]
    }
   ],
   "source": [
    "sigma_hat = np.sqrt((1/(n-1)) * np.sum((sample - mu_star)**2))\n",
    "print(\"Unbiased esimator of the mean is\", round(mu_star,3), \"and the std is\", round(sigma_hat,3))"
   ]
  },
  {
   "cell_type": "markdown",
   "id": "68401e0e",
   "metadata": {},
   "source": [
    "#### Comparison of MLE and Unbiased estimation of the standard deviation\n",
    "Let us repeat this experiment $10,000$ times."
   ]
  },
  {
   "cell_type": "code",
   "execution_count": 37,
   "id": "bbe67123",
   "metadata": {},
   "outputs": [],
   "source": [
    "np.random.seed(0)\n",
    "mu = 1 #mean\n",
    "n = 200 #let us hage n = 200\n",
    "simulation = 10000\n",
    "sigma_star_collection = np.zeros(simulation)\n",
    "sigma_hat_collection = np.zeros(simulation)\n",
    "sigma = 0.5 #std\n",
    "for sim in range(simulation):\n",
    "    sample = np.random.normal(mu, sigma, n)\n",
    "    mu_star = np.mean(sample)\n",
    "    sigma_star_collection[sim] = np.sqrt((1/n) * np.sum((sample - mu_star)**2))\n",
    "    sigma_hat_collection[sim] = np.sqrt((1/(n-1)) * np.sum((sample - mu_star)**2))"
   ]
  },
  {
   "cell_type": "code",
   "execution_count": 38,
   "id": "a509f197",
   "metadata": {
    "scrolled": true
   },
   "outputs": [
    {
     "name": "stdout",
     "output_type": "stream",
     "text": [
      "As expected, the unbiased estimation of std 0.499 is closer to the true value 0.5 than the MLE estimation 0.498\n"
     ]
    }
   ],
   "source": [
    "print(\"As expected, the unbiased estimation of std\", round(np.mean(sigma_hat_collection),3), \"is closer to the true value\", sigma, \"than the MLE estimation\", round(np.mean(sigma_star_collection),3))"
   ]
  },
  {
   "cell_type": "markdown",
   "id": "250e3b40",
   "metadata": {},
   "source": [
    "**Exercise Question** Why does the maximum likelihood estimation of the standard deviation is biased? Why do we ever want to take an estimation which does not converge to the true value of $\\sigma$ if we repeat this experiment many times?"
   ]
  },
  {
   "cell_type": "markdown",
   "id": "51b84d89",
   "metadata": {},
   "source": [
    "### MLE when a closed-form solution is not available: Gamma Distribution\n",
    "The Gamma distribution is a continuous distribution with density:\n",
    "$$f(x | \\alpha, \\beta) = \\dfrac{\\beta^\\alpha x^{\\alpha - 1} e^{- \\beta x}}{\\Gamma(\\alpha)} $$\n",
    "for $x, \\alpha, \\beta > 0$. Here $\\Gamma (\\cdot) $ is [the gamma function](https://en.wikipedia.org/wiki/Gamma_function). Although this distribution is used quite a lot in practice, here we will concentrate on the MLE application only as Step 3 of the MLE scheme will be slightly different than the previous cases. We first sample $n = 200$ i.i.d. Gamma variables with $\\alpha = 1, \\ \\beta = 2$."
   ]
  },
  {
   "cell_type": "code",
   "execution_count": 39,
   "id": "342b5328",
   "metadata": {},
   "outputs": [],
   "source": [
    "np.random.seed(0)\n",
    "alpha, beta = 1,2\n",
    "n =200\n",
    "sample = np.random.gamma(alpha, (1/beta), n) #instead of beta we give 1/beta as an input due to our definition"
   ]
  },
  {
   "cell_type": "markdown",
   "id": "4bf112d7",
   "metadata": {},
   "source": [
    "Mean of this distribution is $\\alpha / \\beta = 1 / 2 = 0.5$, hence let us check the sample mean."
   ]
  },
  {
   "cell_type": "code",
   "execution_count": 40,
   "id": "15772063",
   "metadata": {},
   "outputs": [
    {
     "data": {
      "text/plain": [
       "0.493"
      ]
     },
     "execution_count": 40,
     "metadata": {},
     "output_type": "execute_result"
    }
   ],
   "source": [
    "round(np.mean(sample),3)"
   ]
  },
  {
   "cell_type": "markdown",
   "id": "e5a004ff",
   "metadata": {},
   "source": [
    "Remember that the Gamma function is $\\Gamma(\\alpha) = (\\alpha - 1)!$ for all positive integers $\\alpha$. In general for $\\alpha > 0$ the formal definition of this function is:\n",
    "$$\\Gamma(\\alpha) := \\int_{0}^{\\infty} t^{\\alpha - 1} e^{-t} \\mathrm{d}t.$$\n",
    "Python's Math module has a built-in Gamma function!"
   ]
  },
  {
   "cell_type": "code",
   "execution_count": 41,
   "id": "1037967b",
   "metadata": {},
   "outputs": [
    {
     "data": {
      "text/plain": [
       "True"
      ]
     },
     "execution_count": 41,
     "metadata": {},
     "output_type": "execute_result"
    }
   ],
   "source": [
    "math.gamma(5) == math.factorial(4)"
   ]
  },
  {
   "cell_type": "code",
   "execution_count": 42,
   "id": "02f1e9f6",
   "metadata": {},
   "outputs": [
    {
     "data": {
      "text/plain": [
       "24.0"
      ]
     },
     "execution_count": 42,
     "metadata": {},
     "output_type": "execute_result"
    }
   ],
   "source": [
    "math.gamma(5)"
   ]
  },
  {
   "cell_type": "code",
   "execution_count": 43,
   "id": "f8e8f361",
   "metadata": {},
   "outputs": [
    {
     "data": {
      "text/plain": [
       "27.93175373836837"
      ]
     },
     "execution_count": 43,
     "metadata": {},
     "output_type": "execute_result"
    }
   ],
   "source": [
    "math.gamma(5.1)"
   ]
  },
  {
   "cell_type": "markdown",
   "id": "b1813fbe",
   "metadata": {},
   "source": [
    "We are now ready do apply MLE to estimate $\\alpha$ and $\\beta$"
   ]
  },
  {
   "cell_type": "markdown",
   "id": "18bffda2",
   "metadata": {},
   "source": [
    "**<span style=\"color:blue\">MLE STEP 1: Derive the likelihood function. </span>**\n",
    "$$L(\\mathcal{X} | \\alpha, \\beta) = \\prod_{i=1}^n f(x_i) = \\prod_{i=1}^n \\dfrac{\\beta^\\alpha x_i^{\\alpha - 1} e^{- \\beta x_i}}{\\Gamma(\\alpha)}$$"
   ]
  },
  {
   "cell_type": "markdown",
   "id": "3ca03d55",
   "metadata": {},
   "source": [
    "**<span style=\"color:blue\">MLE STEP 2: Derive the log-likelihood function. </span>**\n",
    "\\begin{align*}\n",
    "\\ell(\\mathcal{X} | \\alpha, \\beta) &= \\log \\left[ \\prod_{i=1}^n \\dfrac{\\beta^\\alpha x_i^{\\alpha - 1} e^{- \\beta x_i}}{\\Gamma(\\alpha)} \\right] \\\\\n",
    "& = \\sum_{i=1}^n  \\left[ \\log \\left(\\beta^\\alpha x_i^{\\alpha - 1} e^{- \\beta x_i}\\right)  - \\log\\left(\\Gamma(\\alpha)\\right)\\right] \\\\\n",
    "& = \\sum_{i=1}^n  \\left[ \\alpha \\log (\\beta) + (\\alpha - 1) \\log (x_i) - \\beta x_i - \\log\\left(\\Gamma(\\alpha)\\right)\\right] \\\\\n",
    "& = n \\alpha \\log(\\beta) - n \\log(\\Gamma(\\alpha)) + (\\alpha - 1) \\sum_{i=1}^n \\log (x_i) - \\beta \\sum_{i=1}^n x_i.\n",
    "\\end{align*}"
   ]
  },
  {
   "cell_type": "markdown",
   "id": "eea0c8f8",
   "metadata": {},
   "source": [
    "**<span style=\"color:blue\">MLE STEP 3: Find the $\\mu^\\star, \\ \\sigma^\\star$ values that maximize the log-likelihood function. </span>**\n",
    "Similarly as before, we can take the first order conditions to solve maximization of $\\ell(\\mathcal{X} | \\alpha,\\beta)$. Let us start by doing this for $\\beta$:\n",
    "\\begin{align*}\n",
    "\\dfrac{\\partial \\ell(\\mathcal{X} | \\alpha, \\beta)}{\\partial \\beta} = \\dfrac{n\\alpha}{\\beta} - \\sum_{i=1}^n x_i,\n",
    "\\end{align*}\n",
    "hence, by setting this expression to $0$, the MLE estimator of $\\beta$ can be obtained as:\n",
    "\\begin{align*}\n",
    "\\beta^\\star = \\dfrac{n \\alpha}{\\sum_{i=1}^n x_i}.\n",
    "\\end{align*}\n",
    "We substitute this in the log-likelihood function to obtain:\n",
    "\\begin{align*}\n",
    "\\ell\\left(\\mathcal{X} | \\alpha, \\dfrac{n \\alpha}{\\sum_{i=1}^n x_i} \\right) = n\\alpha \\log\\left( \\dfrac{n \\alpha}{\\sum_{i=1}^n x_i} \\right) - n \\log(\\Gamma(\\alpha)) + (\\alpha - 1) \\sum_{i=1}^n \\log(x_i)   - n\\alpha.\n",
    "\\end{align*}\n",
    "However, unfortunately, the first-order conditions of the log-likelihood function does not admit a closed form solution for $\\alpha$. We therefore need to use an optimization algorithm to numerically optimize the $\\alpha$ value.\n",
    "\n",
    "Note (detail): $\\Gamma$ is a logarithmically convex function, meaning theat $\\log(\\Gamma(\\cdot))$ is a convex function, hence $- \\log(\\Gamma(\\cdot))$ is concave.\n",
    "\n",
    "Let us code this process. For simplicity, we assume that $\\alpha$ lies in the region $[0.1, 10]$. We first define the log-likelihood function."
   ]
  },
  {
   "cell_type": "code",
   "execution_count": 44,
   "id": "bf768e46",
   "metadata": {},
   "outputs": [],
   "source": [
    "def mle_gamma(alpha, n, sample):\n",
    "    '''\n",
    "    Objective function - log-likelihood of the gamma distribution wrt the parameter 'alpha'\n",
    "    '''\n",
    "    return n*alpha*math.log((n * alpha)/np.sum(sample)) - n*math.log(math.gamma(alpha)) + (alpha * np.sum(np.log(sample))) - n*alpha"
   ]
  },
  {
   "cell_type": "markdown",
   "id": "2c218ab8",
   "metadata": {},
   "source": [
    "Next, we plot the log-likelihood function on the domain of $\\alpha$."
   ]
  },
  {
   "cell_type": "code",
   "execution_count": 45,
   "id": "67766661",
   "metadata": {},
   "outputs": [
    {
     "data": {
      "image/png": "[encoded data removed]",
      "text/plain": [
       "<Figure size 432x288 with 1 Axes>"
      ]
     },
     "metadata": {
      "needs_background": "light"
     },
     "output_type": "display_data"
    }
   ],
   "source": [
    "#Let us plot the log-likelihood function\n",
    "# linearly spaced alphas\n",
    "alphas = np.linspace(0.1,10,1000)\n",
    "# the function as we just defined above\n",
    "y = [mle_gamma(alpha, n, sample) for alpha in alphas]\n",
    "\n",
    "fig = plt.figure()\n",
    "# below taken from https://scriptverse.academy/tutorials/python-matplotlib-plot-function.html\n",
    "ax = fig.add_subplot(1, 1, 1)\n",
    "ax.spines['left'].set_position('center')\n",
    "ax.spines['bottom'].set_position('center')\n",
    "ax.spines['right'].set_color('none')\n",
    "ax.spines['top'].set_color('none')\n",
    "ax.xaxis.set_ticks_position('bottom')\n",
    "ax.yaxis.set_ticks_position('left')\n",
    "\n",
    "# plot the function\n",
    "plt.axvline(x =1, color='r', linestyle='--', label = r\"true value of $\\alpha$\")\n",
    "\n",
    "plt.plot(alphas ,y, 'g', label = r\"log-likelihood\")\n",
    "plt.legend()\n",
    "plt.title(\"The horizontal axis is the alpha values and vertical axis is the corresponding log-likelihood\")\n",
    "# show the plot\n",
    "plt.show()"
   ]
  },
  {
   "cell_type": "code",
   "execution_count": 46,
   "id": "c195b782",
   "metadata": {},
   "outputs": [
    {
     "data": {
      "text/plain": [
       "1.0315315315315317"
      ]
     },
     "execution_count": 46,
     "metadata": {},
     "output_type": "execute_result"
    }
   ],
   "source": [
    "#which (discretized!) alpha givse the maximal log-likelihood above?\n",
    "alphas[np.argmax(y)]"
   ]
  },
  {
   "cell_type": "markdown",
   "id": "08d49301",
   "metadata": {},
   "source": [
    "**Exercise Question** Do you see how the log-likelihood is shaped concave? Show that this is not coincidence."
   ]
  },
  {
   "cell_type": "markdown",
   "id": "9f6a898b",
   "metadata": {},
   "source": [
    "As we know that the log-likelihood is concave, and as $\\alpha \\in [0.1, 10]$, we can search the optimal value by using a [bisection search](https://en.wikipedia.org/wiki/Bisection_method). We derive this next. First of all, we should derive the derivative of the log-likelihood function and set it equal to zero (even though it doesn't admit a closed form solution, we will implement a search algorithm). Denote $\\psi$ as the [digamma function](https://en.wikipedia.org/wiki/Digamma_function). Hence we need:"
   ]
  },
  {
   "cell_type": "markdown",
   "id": "eebe3cb1",
   "metadata": {},
   "source": [
    "\\begin{align*}\n",
    "\\log(\\alpha) - \\psi(\\alpha) - \\log\\left( \\dfrac{1}{n} \\sum_{i=1}^n x_i \\right) + \\dfrac{1}{n}\\sum_{i=1}^n \\log(x_i) = 0.\n",
    "\\end{align*}"
   ]
  },
  {
   "cell_type": "markdown",
   "id": "092df162",
   "metadata": {},
   "source": [
    "Let us implement this derivative:"
   ]
  },
  {
   "cell_type": "code",
   "execution_count": 47,
   "id": "384b6b6b",
   "metadata": {},
   "outputs": [],
   "source": [
    "def derivative_mle_gamma(alpha, n, sample):\n",
    "    '''\n",
    "    Objective function - log-likelihood of the gamma distribution wrt the parameter 'alpha'\n",
    "    '''\n",
    "    return math.log(alpha) - psi(alpha) - math.log((1/n)* np.sum(sample)) + (1/n) * np.sum(np.log(sample))"
   ]
  },
  {
   "cell_type": "markdown",
   "id": "932f877d",
   "metadata": {},
   "source": [
    "What we observed in the plot above is that, when the log-likelihood function is concave, before it is at the global optimum value its slope is positive (hence a positive derivative), then at its global optimum value the slope is $0$, and afterwards the slope gets negative. Hence, we can apply the bisection search as follows:"
   ]
  },
  {
   "cell_type": "code",
   "execution_count": 48,
   "id": "fe6b84d4",
   "metadata": {},
   "outputs": [],
   "source": [
    "right = 10\n",
    "left = 0.1\n",
    "while(abs(right - left) >= 0.00001):\n",
    "    center = (right + left) / 2\n",
    "    if derivative_mle_gamma(center, n, sample) > 0:\n",
    "        left = center\n",
    "    else:\n",
    "        right = center\n",
    "alpha_star = center"
   ]
  },
  {
   "cell_type": "code",
   "execution_count": 49,
   "id": "f580f84a",
   "metadata": {},
   "outputs": [
    {
     "name": "stdout",
     "output_type": "stream",
     "text": [
      "MLE estimation of alpha is 1.033\n"
     ]
    }
   ],
   "source": [
    "print(\"MLE estimation of alpha is\", np.round(alpha_star,3))"
   ]
  },
  {
   "cell_type": "markdown",
   "id": "5a9f2318",
   "metadata": {},
   "source": [
    "Recall also that we derived\n",
    "\\begin{align*}\n",
    "\\beta^\\star = \\dfrac{n \\alpha}{\\sum_{i=1}^n x_i},\n",
    "\\end{align*}\n",
    "hence by using $\\alpha^\\star$ as $\\alpha$ we can also obtain $\\beta^\\star$:"
   ]
  },
  {
   "cell_type": "code",
   "execution_count": 50,
   "id": "0daccc2a",
   "metadata": {},
   "outputs": [
    {
     "name": "stdout",
     "output_type": "stream",
     "text": [
      "MLE estimation of beta is 2.097\n"
     ]
    }
   ],
   "source": [
    "beta_star = n*alpha_star / (np.sum(sample))\n",
    "print(\"MLE estimation of beta is\", np.round(beta_star,3))"
   ]
  },
  {
   "cell_type": "markdown",
   "id": "8bbc6e0b",
   "metadata": {},
   "source": [
    "Not bad at alll, given that true values are $\\alpha = 1, \\ \\beta = 2$. "
   ]
  },
  {
   "cell_type": "markdown",
   "id": "edc7e1a0",
   "metadata": {},
   "source": [
    "#### Let's see if the estimation is unbiased empirically."
   ]
  },
  {
   "cell_type": "code",
   "execution_count": 51,
   "id": "412ae5ae",
   "metadata": {},
   "outputs": [],
   "source": [
    "np.random.seed(0) #random seed\n",
    "alpha = 1 #true parameter alpha\n",
    "beta = 2 #true parameter beta\n",
    "n = 2000  #number of observations in a sample\n",
    "simulation = 100 #how many times to simulate this experiment\n",
    "alpha_star_collection = np.zeros(simulation) #vector of MLE estimates of alpha in each simulation\n",
    "beta_star_collection = np.zeros(simulation)  #vector of MLE estimates of beta in each simulation\n",
    "for sim in range(simulation): #simulate\n",
    "    sample = np.random.gamma(alpha, (1/beta), n) #sample n iid Gamma variables\n",
    "    right = 10 #bisection right-hand side\n",
    "    left = 0.1 #bisection lhs\n",
    "    while(abs(right - left) >= 0.00001): #until 'convergence'\n",
    "        #try to understand the body of this while-loop! Does it also work like this if log-likelihood was not concave?\n",
    "        center = (right + left) / 2 \n",
    "        if derivative_mle_gamma(center, n, sample) > 0:\n",
    "            left = center\n",
    "        else:\n",
    "            right = center\n",
    "    alpha_star = center\n",
    "    beta_star = n*alpha_star / (np.sum(sample))\n",
    "    alpha_star_collection[sim] = alpha_star\n",
    "    beta_star_collection[sim] = beta_star"
   ]
  },
  {
   "cell_type": "code",
   "execution_count": 52,
   "id": "d0354508",
   "metadata": {},
   "outputs": [
    {
     "data": {
      "text/plain": [
       "1.002"
      ]
     },
     "execution_count": 52,
     "metadata": {},
     "output_type": "execute_result"
    }
   ],
   "source": [
    "round(np.mean(alpha_star_collection),3)"
   ]
  },
  {
   "cell_type": "code",
   "execution_count": 53,
   "id": "089ec35c",
   "metadata": {},
   "outputs": [
    {
     "data": {
      "text/plain": [
       "1.999"
      ]
     },
     "execution_count": 53,
     "metadata": {},
     "output_type": "execute_result"
    }
   ],
   "source": [
    "round(np.mean(beta_star_collection),3)"
   ]
  },
  {
   "cell_type": "markdown",
   "id": "94bbbafe",
   "metadata": {},
   "source": [
    "Overall, you will see that as $n$ increases, the estimations will converge to the true values, which is almost always the case. The reason is that we are optimizing the likelihood of the sample, and as $n$ increases, the sample will converge to the population in the sense of 'generelization'. \n",
    "\n",
    "However, for a fixed $n$ (e.g., $200$), increasing ```simulation``` does not converge these values to the true numbers, concluding that such a method is not necessarily unbiased. "
   ]
  }
 ],
 "metadata": {
  "kernelspec": {
   "display_name": "Python 3",
   "language": "python",
   "name": "python3"
  },
  "language_info": {
   "codemirror_mode": {
    "name": "ipython",
    "version": 3
   },
   "file_extension": ".py",
   "mimetype": "text/x-python",
   "name": "python",
   "nbconvert_exporter": "python",
   "pygments_lexer": "ipython3",
   "version": "3.8.8"
  }
 },
 "nbformat": 4,
 "nbformat_minor": 5
}
