{
 "cells": [
  {
   "cell_type": "code",
   "execution_count": 6,
   "id": "c5feb7b2",
   "metadata": {},
   "outputs": [],
   "source": [
    "import numpy as np\n",
    "import pandas as pd\n",
    "import random\n",
    "import matplotlib.pyplot as plt"
   ]
  },
  {
   "cell_type": "markdown",
   "id": "75227f16",
   "metadata": {},
   "source": [
    "## Bootstrapping exercise\n",
    "- There are two correlated stocks, $X$ and $Y$, which are normally distributed\n",
    "- You will invest in both stocks with all your money\n",
    "- Your goal is to find $\\alpha \\in [0,1]$ (the portion of your money invested in stock $X$) to minimize the variance of the portfolio, i.e.,\n",
    " $$ \\mathbb{V}\\mathrm{AR}[\\alpha X + (1-\\alpha)Y] $$\n",
    "- You are given \"returns.npy\", a 2-D numpy array of the past $200$ returns of $(X,Y)$.\n",
    "\n",
    "Exercise questions: \n",
    "1. Estimate $\\mu_X, \\mu_Y, \\sigma_{X}^2, \\sigma_{Y}^2, \\sigma_{XY}$ from the sample, and then compute the optimal investment strategy $\\alpha$\n",
    "2. Since we estimated the parameters by looking at a sample, we may be severly biased. Hence, use bootstrapping to iteratively sample $200$ points (with replacement) from the previous returns, and estimate the optimal investment strategy each time. Apply this $B = 500$ times and compute the standard error of the optimal $\\alpha$ that we computed on the original set of previous returns."
   ]
  },
  {
   "cell_type": "code",
   "execution_count": 7,
   "id": "609ebd23",
   "metadata": {},
   "outputs": [],
   "source": [
    "# load\n",
    "returns = np.load('returns.npy')\n",
    "n = 200"
   ]
  },
  {
   "cell_type": "code",
   "execution_count": 16,
   "id": "56529ad0",
   "metadata": {},
   "outputs": [
    {
     "data": {
      "text/plain": [
       "array([[11.71      , -4.286     ],\n",
       "       [-4.286     ,  2.14413333]])"
      ]
     },
     "execution_count": 16,
     "metadata": {},
     "output_type": "execute_result"
    }
   ],
   "source": [
    "x = [-2.1, -1,  4.3]\n",
    "y = [3,  1.1,  0.12]\n",
    "X = np.stack((x, y), axis=0)\n",
    "X.shape\n",
    "np.cov(X)\n"
   ]
  },
  {
   "cell_type": "code",
   "execution_count": 18,
   "id": "6f9fb4c1",
   "metadata": {},
   "outputs": [
    {
     "data": {
      "text/plain": [
       "(200, 2)"
      ]
     },
     "execution_count": 18,
     "metadata": {},
     "output_type": "execute_result"
    }
   ],
   "source": [
    "returns.shape"
   ]
  },
  {
   "cell_type": "code",
   "execution_count": 11,
   "id": "4df6efc7",
   "metadata": {},
   "outputs": [
    {
     "data": {
      "text/plain": [
       "2.980975680940662"
      ]
     },
     "execution_count": 11,
     "metadata": {},
     "output_type": "execute_result"
    }
   ],
   "source": [
    "#Estimate mean returns\n",
    "hat_mean = np.mean(returns)\n",
    "hat_mean"
   ]
  },
  {
   "cell_type": "code",
   "execution_count": 23,
   "id": "395d0ed2",
   "metadata": {},
   "outputs": [
    {
     "data": {
      "text/plain": [
       "array([[1.29126685, 0.46509466],\n",
       "       [0.46509466, 1.10756609]])"
      ]
     },
     "execution_count": 23,
     "metadata": {},
     "output_type": "execute_result"
    }
   ],
   "source": [
    "#estimate covariance matrix\n",
    "hat_cov = np.cov(returns[:,0], returns[:,1])\n",
    "hat_cov"
   ]
  },
  {
   "cell_type": "code",
   "execution_count": null,
   "id": "e7deead6",
   "metadata": {},
   "outputs": [],
   "source": [
    "#estimate optimal investment\n",
    "optimal_investment = ..."
   ]
  },
  {
   "cell_type": "code",
   "execution_count": 24,
   "id": "a26f6185",
   "metadata": {},
   "outputs": [
    {
     "data": {
      "text/plain": [
       "0.287"
      ]
     },
     "execution_count": 24,
     "metadata": {},
     "output_type": "execute_result"
    }
   ],
   "source": [
    "def optimal_alpha(varx, vary, covar):\n",
    "    return (float) (vary - covar)/(varx + vary - 2*covar)\n",
    "round(optimal_alpha(11.71, 2.144133, -4.286),3)"
   ]
  },
  {
   "cell_type": "code",
   "execution_count": null,
   "id": "1f2ffa41",
   "metadata": {},
   "outputs": [],
   "source": [
    "#use bootstrapping for std. error associated with this technique of finding the optimal investment\n",
    "B = 500 #number of bootstraps\n",
    "samples = n #sample n each time\n",
    "estimations = np.zeros(simulation) #save estimated alphas\n",
    "for sim in range(simulation): #simulate this many times\n",
    "    generated_sample = ... #sample with replacements\n",
    "    estimations[sim] = #write the optimized alpha on the sample\n",
    "bootstrap_error = np.sqrt( ... /(B-1)) #fill in the formula"
   ]
  },
  {
   "cell_type": "markdown",
   "id": "e8e20d3e",
   "metadata": {},
   "source": [
    "Report `optimal_investment` and `bootrap_error`"
   ]
  }
 ],
 "metadata": {
  "kernelspec": {
   "display_name": "Python 3.9.7 ('base')",
   "language": "python",
   "name": "python3"
  },
  "language_info": {
   "codemirror_mode": {
    "name": "ipython",
    "version": 3
   },
   "file_extension": ".py",
   "mimetype": "text/x-python",
   "name": "python",
   "nbconvert_exporter": "python",
   "pygments_lexer": "ipython3",
   "version": "3.9.7"
  },
  "vscode": {
   "interpreter": {
    "hash": "e3ad02e8f3ef77bf09cfe88d8a9da3fa8c5ec4ee3868648142e9052f0e179fbc"
   }
  }
 },
 "nbformat": 4,
 "nbformat_minor": 5
}
