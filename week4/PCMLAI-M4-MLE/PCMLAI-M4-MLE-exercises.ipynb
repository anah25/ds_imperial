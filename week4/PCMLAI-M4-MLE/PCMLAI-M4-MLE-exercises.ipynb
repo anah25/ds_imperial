{
 "cells": [
  {
   "cell_type": "code",
   "execution_count": 57,
   "id": "043da400",
   "metadata": {},
   "outputs": [],
   "source": [
    "import numpy as np\n",
    "from scipy.stats import bernoulli\n",
    "from matplotlib import pyplot as plt"
   ]
  },
  {
   "cell_type": "markdown",
   "id": "44ed6541",
   "metadata": {},
   "source": [
    "## Q1. Load the file \"sample_1.npy\" and convert it to a binary array\n",
    "- This is simply a Numpy array of previous tosses of a single coin\n",
    "- Convert it to 0/1's instead of H/T's"
   ]
  },
  {
   "cell_type": "code",
   "execution_count": 45,
   "id": "8e9cb0cb",
   "metadata": {},
   "outputs": [],
   "source": [
    "sample = np.load('sample_1.npy')\n",
    "sample = np.where(sample=='H',1,0)"
   ]
  },
  {
   "cell_type": "code",
   "execution_count": 46,
   "id": "ed8d333f",
   "metadata": {},
   "outputs": [
    {
     "data": {
      "text/plain": [
       "array([1, 1, 1, 1, 0, 0, 1, 0, 1, 1, 1, 1, 0, 1, 1, 1, 1, 1, 1, 1, 0, 1,\n",
       "       1, 0, 0, 0, 1, 0, 0, 1, 0, 1, 1, 1, 1, 1, 1, 1, 1, 1, 1, 1, 1, 1,\n",
       "       1, 1, 0, 0, 0, 0, 1, 0, 1, 0, 1, 0, 1, 0, 1, 1, 0, 0, 1, 0, 0, 1,\n",
       "       1, 1, 0, 1, 1, 0, 0, 0, 1, 1, 0, 1, 1, 0, 1, 0, 0, 1, 1, 1, 1, 1,\n",
       "       0, 0, 1, 1, 0, 0, 1, 1, 1, 1, 1, 1, 1, 1, 0, 0, 0, 0, 1, 0, 1, 0,\n",
       "       1, 0, 0, 1, 0, 1, 0, 1, 0, 0, 0, 1, 1, 1, 1, 1, 1, 0, 1, 0, 1, 1,\n",
       "       1, 1, 0, 0, 0, 0, 1, 0, 0, 1, 0, 1, 1, 0, 0, 0, 0, 1, 0, 0, 1, 1,\n",
       "       1, 1, 1, 1, 0, 0, 0, 0, 1, 0, 1, 1, 1, 0, 0, 1, 0, 1, 0, 1, 0, 1,\n",
       "       1, 1, 0, 1, 1, 0, 1, 1, 0, 1, 0, 1, 1, 0, 1, 1, 0, 1, 1, 0, 1, 0,\n",
       "       0, 0, 1, 1, 1, 1, 1, 0, 1, 1, 1, 0, 0, 0, 1, 0, 1, 1, 0, 0, 0, 1,\n",
       "       0, 1, 0, 1, 1, 0, 0, 1, 0, 0, 1, 1, 0, 1, 1, 0, 1, 0, 0, 1, 1, 0,\n",
       "       0, 1, 1, 0, 1, 0, 0, 0, 1, 1, 1, 0, 1, 1, 0, 1, 1, 0, 1, 1, 1, 0,\n",
       "       0, 1, 1, 1, 0, 1, 0, 1, 1, 1, 0, 0, 1, 0, 1, 1, 1, 1, 1, 0, 0, 0,\n",
       "       1, 0, 1, 0, 1, 1, 1, 1, 0, 1, 1, 0, 1, 1, 0, 0, 1, 1, 1, 1, 0, 1,\n",
       "       1, 1, 0, 1, 1, 1, 1, 1, 1, 1, 1, 1, 1, 1, 1, 0, 1, 0, 1, 1, 0, 1,\n",
       "       0, 1, 1, 1, 1, 0, 0, 1, 1, 0, 1, 1, 1, 1, 0, 1, 1, 0, 1, 0, 0, 1,\n",
       "       1, 0, 1, 0, 1, 0, 1, 1, 1, 0, 0, 1, 0, 0, 1, 0, 1, 0, 1, 0, 0, 1,\n",
       "       0, 1, 1, 0, 0, 1, 0, 1, 0, 1, 0, 1, 1, 0, 0, 1, 1, 0, 1, 0, 1, 1,\n",
       "       0, 0, 1, 1, 1, 1, 1, 1, 0, 1, 1, 0, 0, 1, 0, 1, 1, 1, 1, 1, 1, 1,\n",
       "       1, 1, 1, 1, 0, 1, 1, 1, 1, 1, 1, 1, 1, 0, 1, 0, 1, 0, 1, 1, 1, 1,\n",
       "       1, 1, 1, 0, 1, 1, 0, 1, 1, 0, 0, 0, 1, 1, 1, 1, 1, 1, 1, 0, 0, 1,\n",
       "       1, 0, 0, 1, 1, 0, 1, 0, 0, 0, 1, 1, 0, 1, 1, 0, 0, 1, 1, 0, 0, 1,\n",
       "       1, 1, 1, 1, 1, 1, 1, 1, 1, 0, 1, 1, 0, 1, 1, 0, 0, 0, 1, 0, 1, 1,\n",
       "       1, 1, 0, 1, 1, 1, 1, 0, 1, 0, 0, 1, 0, 1, 1, 1, 1, 0, 1, 1, 1, 0,\n",
       "       1, 1, 0, 1, 0, 1, 0, 1, 0, 1, 1, 1, 0, 1, 1, 0, 0, 1, 0, 0, 0, 1,\n",
       "       1, 0, 1, 1, 0, 1, 1, 0, 1, 0, 1, 0, 0, 0, 0, 1, 0, 1, 1, 1, 1, 1,\n",
       "       1, 1, 1, 1, 1, 1, 0, 1, 0, 1, 1, 1, 0, 1, 1, 1, 1, 0, 0, 1, 1, 1,\n",
       "       0, 0, 1, 0, 1, 1, 0, 0, 1, 1, 1, 0, 1, 1, 0, 0, 0, 1, 0, 1, 1, 1,\n",
       "       1, 1, 1, 1, 1, 0, 0, 0, 0, 0, 1, 0, 1, 0, 0, 1, 1, 1, 1, 1, 0, 1,\n",
       "       0, 1, 0, 1, 1, 1, 1, 1, 0, 0, 1, 0, 0, 1, 0, 0, 1, 0, 1, 1, 1, 1,\n",
       "       1, 0, 1, 1, 0, 1, 0, 0, 0, 1, 1, 1, 1, 0, 1, 1, 1, 0, 0, 1, 1, 0,\n",
       "       0, 1, 0, 1, 0, 1, 1, 0, 1, 0, 1, 1, 1, 0, 1, 1, 1, 0, 0, 0, 0, 1,\n",
       "       0, 1, 1, 1, 0, 0, 0, 0, 0, 1, 0, 1, 1, 0, 0, 0, 1, 0, 0, 1, 0, 0,\n",
       "       0, 1, 1, 1, 1, 1, 0, 0, 1, 0, 1, 0, 0, 1, 0, 1, 1, 0, 1, 1, 1, 0,\n",
       "       0, 1, 1, 1, 0, 1, 1, 0, 1, 0, 1, 0, 1, 1, 1, 0, 0, 1, 1, 0, 0, 1,\n",
       "       1, 1, 0, 1, 0, 1, 1, 1, 0, 1, 1, 1, 1, 1, 1, 0, 1, 0, 1, 1, 0, 0,\n",
       "       1, 1, 1, 1, 1, 0, 1, 1, 0, 0, 1, 0, 1, 1, 0, 0, 1, 0, 1, 1, 1, 0,\n",
       "       1, 1, 1, 1, 0, 1, 1, 1, 1, 0, 0, 1, 1, 0, 0, 1, 1, 1, 1, 1, 1, 1,\n",
       "       1, 1, 1, 1, 1, 0, 1, 0, 0, 0, 1, 1, 1, 1, 1, 0, 1, 1, 0, 0, 1, 1,\n",
       "       1, 1, 1, 1, 1, 0, 1, 0, 1, 1, 1, 1, 0, 1, 0, 1, 0, 0, 1, 1, 0, 1,\n",
       "       1, 1, 1, 0, 1, 1, 0, 0, 0, 0, 1, 0, 1, 1, 1, 0, 1, 1, 1, 1, 1, 1,\n",
       "       0, 1, 1, 1, 1, 0, 1, 0, 0, 0, 1, 1, 0, 1, 0, 1, 1, 0, 1, 1, 1, 1,\n",
       "       1, 1, 0, 0, 1, 1, 0, 1, 1, 1, 0, 1, 1, 1, 0, 0, 1, 1, 1, 1, 0, 1,\n",
       "       1, 1, 0, 1, 1, 1, 1, 1, 1, 1, 1, 0, 1, 1, 0, 1, 0, 1, 1, 1, 0, 1,\n",
       "       0, 0, 0, 1, 1, 1, 0, 1, 0, 0, 0, 0, 1, 1, 1, 1, 1, 1, 1, 1, 1, 0,\n",
       "       0, 0, 1, 0, 1, 0, 1, 0, 1, 0])"
      ]
     },
     "execution_count": 46,
     "metadata": {},
     "output_type": "execute_result"
    }
   ],
   "source": [
    "sample"
   ]
  },
  {
   "cell_type": "markdown",
   "id": "2f1f7da2",
   "metadata": {},
   "source": [
    "## Q2. Answer the following\n",
    "- How many coin tosses do we have recorded?\n",
    "- How many \"heads\" are there in total?\n",
    "- What is the maximum number of consecutive \"heads\" appearing together?"
   ]
  },
  {
   "cell_type": "code",
   "execution_count": 48,
   "id": "e4b5b2e0",
   "metadata": {},
   "outputs": [
    {
     "data": {
      "text/plain": [
       "1000"
      ]
     },
     "execution_count": 48,
     "metadata": {},
     "output_type": "execute_result"
    }
   ],
   "source": [
    "n = sample.size\n",
    "n"
   ]
  },
  {
   "cell_type": "code",
   "execution_count": 83,
   "id": "1b8a0c6c",
   "metadata": {},
   "outputs": [
    {
     "data": {
      "text/plain": [
       "620"
      ]
     },
     "execution_count": 83,
     "metadata": {},
     "output_type": "execute_result"
    }
   ],
   "source": [
    "heads_total = np.count_nonzero(sample == 1)\n",
    "heads_total"
   ]
  },
  {
   "cell_type": "code",
   "execution_count": 47,
   "id": "895dc708",
   "metadata": {},
   "outputs": [
    {
     "data": {
      "text/plain": [
       "15"
      ]
     },
     "execution_count": 47,
     "metadata": {},
     "output_type": "execute_result"
    }
   ],
   "source": [
    "a = np.concatenate([np.cumsum(c) if c[0] == 1 else c for c in np.split(sample, 1 + np.where(np.diff(sample))[0])])\n",
    "max(a)"
   ]
  },
  {
   "cell_type": "code",
   "execution_count": 29,
   "id": "4d5ccf02",
   "metadata": {},
   "outputs": [],
   "source": [
    "max_running = ... #number of max running heads"
   ]
  },
  {
   "cell_type": "markdown",
   "id": "a379dbc6",
   "metadata": {},
   "source": [
    "## Q3: Find the MLE estimate for $\\theta$ \n",
    "- $\\theta$ is the probability of head showing in a single toss"
   ]
  },
  {
   "cell_type": "code",
   "execution_count": 84,
   "id": "c8a29acf",
   "metadata": {},
   "outputs": [
    {
     "data": {
      "text/plain": [
       "0.62"
      ]
     },
     "execution_count": 84,
     "metadata": {},
     "output_type": "execute_result"
    }
   ],
   "source": [
    "theta_hat = np.mean(sample)\n",
    "theta_hat"
   ]
  },
  {
   "cell_type": "markdown",
   "id": "cdea341a",
   "metadata": {},
   "source": [
    "## Q4: Load the file \"sample_2.npy\"\n",
    "- You analyze a new coin, where there are 1 million tosses of the same coin where the true $\\theta$ value is $0.97$\n",
    "- Here \"1\" stands for \"head\""
   ]
  },
  {
   "cell_type": "code",
   "execution_count": 53,
   "id": "9d933f33",
   "metadata": {},
   "outputs": [
    {
     "data": {
      "text/plain": [
       "array([1, 1, 1, ..., 1, 1, 1], dtype=int64)"
      ]
     },
     "execution_count": 53,
     "metadata": {},
     "output_type": "execute_result"
    }
   ],
   "source": [
    "sample_2 =  np.load('sample_2.npy')\n",
    "sample_2"
   ]
  },
  {
   "cell_type": "markdown",
   "id": "21473815",
   "metadata": {},
   "source": [
    "## Q5: After how many tosses, your MLE estimate is within $[0.97001, 0.96999]$ \n",
    "- report the minimum number that satisfies this"
   ]
  },
  {
   "cell_type": "code",
   "execution_count": 80,
   "id": "dd819f45",
   "metadata": {},
   "outputs": [
    {
     "data": {
      "text/plain": [
       "1969"
      ]
     },
     "execution_count": 80,
     "metadata": {},
     "output_type": "execute_result"
    }
   ],
   "source": [
    "ratios = np.cumsum(sample_2) / (np.arange(1,pow(10,6)+ 1)) #running ratios. ratios[10] would give us hat_theta(9)\n",
    "np.count_nonzero((ratios<=0.97001) & (ratios>=0.96999))"
   ]
  },
  {
   "cell_type": "code",
   "execution_count": 82,
   "id": "a22e9928",
   "metadata": {},
   "outputs": [
    {
     "data": {
      "text/plain": [
       "(array([  5290,   5291,   5292, ..., 999997, 999998, 999999], dtype=int64),)"
      ]
     },
     "execution_count": 82,
     "metadata": {},
     "output_type": "execute_result"
    }
   ],
   "source": [
    " np.where(ratios<=0.97001)"
   ]
  },
  {
   "cell_type": "code",
   "execution_count": 74,
   "id": "71917831",
   "metadata": {},
   "outputs": [],
   "source": [
    "\n",
    "# Create an empty list\n",
    "filter_arr = []\n",
    "\n",
    "# go through each element in arr\n",
    "for element in ratios:\n",
    "  # if the 0.97001 is higher than 42, set the value to True, otherwise False:\n",
    "  if element > 97001:\n",
    "    filter_arr.append(True)\n",
    "  else:\n",
    "    filter_arr.append(False)\n"
   ]
  },
  {
   "cell_type": "code",
   "execution_count": 69,
   "id": "19fd1eb0",
   "metadata": {},
   "outputs": [
    {
     "data": {
      "image/png": "[encoded data removed]",
      "text/plain": [
       "<Figure size 432x288 with 1 Axes>"
      ]
     },
     "metadata": {
      "needs_background": "light"
     },
     "output_type": "display_data"
    }
   ],
   "source": [
    "plot_limit = 10000 #plot how the ratio changes oby increasing $n$\n",
    "x = np.arange(1, plot_limit + 1) \n",
    "y = ratios[:plot_limit]\n",
    "plt.title(r\"$\\hat{\\theta}(n)$ as a function of $n=1,\\ldots$\") \n",
    "plt.xlabel(\"n = number of coin tosses\") \n",
    "plt.ylabel(r\"$\\hat{\\theta}(n)$\") \n",
    "plt.axhline(y = 0.6, color = 'k', linestyle='--', alpha = 0.6, label = r\"true value of $\\theta$\")\n",
    "plt.plot(x,y) \n",
    "# plt.xlim(-5,plot_limit)\n",
    "plt.ylim(0.95,0.98)\n",
    "plt.legend()\n",
    "plt.show()"
   ]
  },
  {
   "cell_type": "code",
   "execution_count": 76,
   "id": "18a8c218",
   "metadata": {},
   "outputs": [
    {
     "data": {
      "text/plain": [
       "0.969489047786327"
      ]
     },
     "execution_count": 76,
     "metadata": {},
     "output_type": "execute_result"
    }
   ],
   "source": [
    "smallest_accurate_n = min(ratios)\n",
    "smallest_accurate_n"
   ]
  },
  {
   "cell_type": "markdown",
   "id": "fb3893bd",
   "metadata": {},
   "source": [
    "## Submission:\n",
    "- Please submit your answers for `n`, `heads_total`, `max_running`, `theta_hat` for the questions related to \"sample_1.npy\"\n",
    "- Please submit your answer for `smallest_accurate_n` for the question replated to \"sample_2.npy\""
   ]
  }
 ],
 "metadata": {
  "kernelspec": {
   "display_name": "Python 3.9.7 ('base')",
   "language": "python",
   "name": "python3"
  },
  "language_info": {
   "codemirror_mode": {
    "name": "ipython",
    "version": 3
   },
   "file_extension": ".py",
   "mimetype": "text/x-python",
   "name": "python",
   "nbconvert_exporter": "python",
   "pygments_lexer": "ipython3",
   "version": "3.9.7"
  },
  "vscode": {
   "interpreter": {
    "hash": "e3ad02e8f3ef77bf09cfe88d8a9da3fa8c5ec4ee3868648142e9052f0e179fbc"
   }
  }
 },
 "nbformat": 4,
 "nbformat_minor": 5
}
